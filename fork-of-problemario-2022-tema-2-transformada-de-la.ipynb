{
 "cells": [
  {
   "cell_type": "markdown",
   "id": "152b38df",
   "metadata": {
    "papermill": {
     "duration": 0.028525,
     "end_time": "2022-10-21T03:24:30.501052",
     "exception": false,
     "start_time": "2022-10-21T03:24:30.472527",
     "status": "completed"
    },
    "tags": []
   },
   "source": [
    "<img src=\"https://drive.google.com/uc?id=15RWM-3nfCtXJzf3wuBBv0rfzZxN4Q05V\" alt=\"Menor a cero\"  width=\"100\" align=\"center\"><img src=\"https://drive.google.com/uc?id=1ROwcVH7Qpe_4a9JGY1fuxJx6_G9dnZaJ\" alt=\"Menor a cero\"  width=\"100\" align=\"right\">"
   ]
  },
  {
   "cell_type": "markdown",
   "id": "8c3f1621",
   "metadata": {
    "papermill": {
     "duration": 0.020367,
     "end_time": "2022-10-21T03:24:30.543946",
     "exception": false,
     "start_time": "2022-10-21T03:24:30.523579",
     "status": "completed"
    },
    "tags": []
   },
   "source": [
    "# ***Problemario***"
   ]
  },
  {
   "cell_type": "markdown",
   "id": "1820d5a0",
   "metadata": {
    "_kg_hide-input": true,
    "_kg_hide-output": true,
    "papermill": {
     "duration": 0.022117,
     "end_time": "2022-10-21T03:24:30.585430",
     "exception": false,
     "start_time": "2022-10-21T03:24:30.563313",
     "status": "completed"
    },
    "tags": []
   },
   "source": [
    "#### *Nombre de los alumnos:*  \n",
    " Barrera Sanchez Lilian Mayrin  \n",
    " Hernandez Chavez Britany \n",
    "\n",
    "Asignatura: Matemáticas Aplicadas a las Comunicaciones  \n",
    "Fecha de entrega:Octubre de 2022\n",
    "# Temas:\n",
    "\n",
    "* 2.1 Definición y propiedades de la transformada de Laplace  \n",
    "* 2.2 Condiciones suficientes de existencia para la transformada de Laplace\n",
    "* 2.3 Tranformada de Laplace\n",
    "* 2.4 Transformada inversa\n",
    "* 2.5 Transformada de derivadas (Teorema)\n",
    "* 2.6 Tranformada de diferenciales (Teorema)\n",
    "* 2.7 Teorema de consolación\n",
    "* 2.8 Transformada de Laplace de una función periodica\n",
    "* 2.9 Solución de ecuación diferenciales "
   ]
  },
  {
   "cell_type": "markdown",
   "id": "255a1e01",
   "metadata": {
    "papermill": {
     "duration": 0.018628,
     "end_time": "2022-10-21T03:24:30.623339",
     "exception": false,
     "start_time": "2022-10-21T03:24:30.604711",
     "status": "completed"
    },
    "tags": []
   },
   "source": [
    "# Evidencia Firmada\n",
    "<img src=\"https://drive.google.com/uc?id=1S8kvsG3DCMHNBQDx69yzVFZUZu-cSPtj\" alt=\"Menor a cero\"  width=\"300\" align=\"center\"><img src=\"https://drive.google.com/uc?id=1VAYJ8G9i7081c7YCebxTauMcKeFknZtu\" alt=\"Menor a cero\"  width=\"300\" align=\"center\">"
   ]
  },
  {
   "cell_type": "markdown",
   "id": "0ac87c51",
   "metadata": {
    "papermill": {
     "duration": 0.018818,
     "end_time": "2022-10-21T03:24:30.661639",
     "exception": false,
     "start_time": "2022-10-21T03:24:30.642821",
     "status": "completed"
    },
    "tags": []
   },
   "source": [
    "# *Evidencia de Lilian*\n",
    "<img src=\"https://drive.google.com/uc?id=17t3VFLGADJYMKIC8zwiwoqhLKxNLI5SC\" alt=\"Menor a cero\"  width=\"300\" align=\"center\"><img src=\"https://drive.google.com/uc?id=1S8kvsG3DCMHNBQDx69yzVFZUZu-cSPtj\" alt=\"Menor a cero\"  width=\"300\" align=\"center\"><img src=\"https://drive.google.com/uc?id=1Q58eqlaiSCpydrYltdBAxkPorEotMPn5\" alt=\"Menor a cero\"  width=\"300\" align=\"center\"><img src=\"https://drive.google.com/uc?id=1Z57D2H8sCww6LM6H5pyIYAqyNUZj9PI4\" alt=\"Menor a cero\"  width=\"300\" align=\"center\"><img src=\"https://drive.google.com/uc?id=1m8UvYDY7C9fqgvMrxb2EcIWh4emL6R4N\" alt=\"Menor a cero\"  width=\"300\" align=\"center\"><img src=\"https://drive.google.com/uc?id=1ENZDXVySicG6GosDog9NVsHa5XQxbTXf\" alt=\"Menor a cero\"  width=\"300\" align=\"center\"><img src=\"https://drive.google.com/uc?id=1ubfr6Ua0IzwRbBb61Bw1CPukAL-m9oJ3\" alt=\"Menor a cero\"  width=\"300\" align=\"center\"><img src=\"https://drive.google.com/uc?id=1EQosCDiQzk5nJ27QVKDQPZwR-UF9uXFK\" alt=\"Menor a cero\"  width=\"300\" align=\"center\"><img src=\"https://drive.google.com/uc?id=1BvsDvtK8O-qYrLcIxEKb3xwTvxluhG22\" alt=\"Menor a cero\"  width=\"300\" align=\"center\"><img src=\"https://drive.google.com/uc?id=1eAFJrzVDUYE5ohRZg2BexgQp4B4BKZej\" alt=\"Menor a cero\"  width=\"300\" align=\"center\">"
   ]
  },
  {
   "cell_type": "markdown",
   "id": "8e5a8ea1",
   "metadata": {
    "papermill": {
     "duration": 0.019075,
     "end_time": "2022-10-21T03:24:30.700208",
     "exception": false,
     "start_time": "2022-10-21T03:24:30.681133",
     "status": "completed"
    },
    "tags": []
   },
   "source": [
    "# *Evidencia de Britany*\n",
    "<img src=\"https://drive.google.com/uc?id=1mxrNfOEOWL5sBqzHS9XXHrthzT1x_lcL\" alt=\"Menor a cero\"  width=\"300\" align=\"center\"><img src=\"https://drive.google.com/uc?id=1XsUbCLlOj4iXmmAPt-FIBLtyZmz1TZ5H\" alt=\"Menor a cero\"  width=\"300\" align=\"center\"><img src=\"https://drive.google.com/uc?id=1heHUD8sB0-8ocGTnGsaShdBIapYZF6ch\" alt=\"Menor a cero\"  width=\"300\" align=\"center\"><img src=\"https://drive.google.com/uc?id=1hd5-EMVi1fJuXGeKZVGlKHVg98Pi6nQd\" alt=\"Menor a cero\"  width=\"300\" align=\"center\"><img src=\"https://drive.google.com/uc?id=1K5HYZvAn8Nllcz-yV4uo356mhLXjuuSB\" alt=\"Menor a cero\"  width=\"300\" align=\"center\"><img src=\"https://drive.google.com/uc?id=1U68d0XY4fbDDIertEtz4FnOnQ9124PK7\" alt=\"Menor a cero\"  width=\"300\" align=\"center\"><img src=\"https://drive.google.com/uc?id=1HARAOhQKPeWZ_eIq2GZRoSjd86oFDPAl\" alt=\"Menor a cero\"  width=\"300\" align=\"center\"><img src=\"https://drive.google.com/uc?id=10N55QbPcuQ6gds8aDRyjSZyDMw1sYpG0\" alt=\"Menor a cero\"  width=\"300\" align=\"center\"><img src=\"https://drive.google.com/uc?id=12IW4fgIuC-CheNaOZbDNvJ7MiVqY48u-\" alt=\"Menor a cero\"  width=\"300\" align=\"center\">"
   ]
  },
  {
   "cell_type": "markdown",
   "id": "b0c827ba",
   "metadata": {
    "papermill": {
     "duration": 0.018668,
     "end_time": "2022-10-21T03:24:30.738131",
     "exception": false,
     "start_time": "2022-10-21T03:24:30.719463",
     "status": "completed"
    },
    "tags": []
   },
   "source": [
    "#### **Instrucciones**\n",
    "\n",
    "Resuelva las siguientes funciones empleando alguno de los métodos revisados en clase:\n",
    "* Transformada de Laplace\n",
    "* Transformada Inversa de la de Laplace\n",
    "* Transformada de Laplace Derivada"
   ]
  },
  {
   "cell_type": "markdown",
   "id": "03f15a20",
   "metadata": {
    "papermill": {
     "duration": 0.01892,
     "end_time": "2022-10-21T03:24:30.776299",
     "exception": false,
     "start_time": "2022-10-21T03:24:30.757379",
     "status": "completed"
    },
    "tags": []
   },
   "source": [
    "#### **Librerias utilizadas**"
   ]
  },
  {
   "cell_type": "code",
   "execution_count": 1,
   "id": "869d0e28",
   "metadata": {
    "execution": {
     "iopub.execute_input": "2022-10-21T03:24:30.817627Z",
     "iopub.status.busy": "2022-10-21T03:24:30.816992Z",
     "iopub.status.idle": "2022-10-21T03:24:31.684253Z",
     "shell.execute_reply": "2022-10-21T03:24:31.683025Z"
    },
    "papermill": {
     "duration": 0.891815,
     "end_time": "2022-10-21T03:24:31.687296",
     "exception": false,
     "start_time": "2022-10-21T03:24:30.795481",
     "status": "completed"
    },
    "tags": []
   },
   "outputs": [
    {
     "name": "stdout",
     "output_type": "stream",
     "text": [
      "Bibliotecas cargadas\n"
     ]
    }
   ],
   "source": [
    "import sympy\n",
    "import math\n",
    "\n",
    "sympy.init_printing(use_latex='mathjax')\n",
    "\n",
    "print(\"Bibliotecas cargadas\")"
   ]
  },
  {
   "cell_type": "code",
   "execution_count": 2,
   "id": "689ff9a4",
   "metadata": {
    "execution": {
     "iopub.execute_input": "2022-10-21T03:24:31.728681Z",
     "iopub.status.busy": "2022-10-21T03:24:31.728128Z",
     "iopub.status.idle": "2022-10-21T03:24:31.733119Z",
     "shell.execute_reply": "2022-10-21T03:24:31.732218Z"
    },
    "papermill": {
     "duration": 0.02781,
     "end_time": "2022-10-21T03:24:31.735195",
     "exception": false,
     "start_time": "2022-10-21T03:24:31.707385",
     "status": "completed"
    },
    "tags": []
   },
   "outputs": [],
   "source": [
    "t = sympy.Symbol('t')\n",
    "s = sympy.Symbol('s')\n",
    "a = sympy.Symbol('a', real=True, positive=True)"
   ]
  },
  {
   "cell_type": "markdown",
   "id": "10f258e3",
   "metadata": {
    "papermill": {
     "duration": 0.018954,
     "end_time": "2022-10-21T03:24:31.773651",
     "exception": false,
     "start_time": "2022-10-21T03:24:31.754697",
     "status": "completed"
    },
    "tags": []
   },
   "source": [
    "## Transformada de Laplace"
   ]
  },
  {
   "cell_type": "markdown",
   "id": "4ca3eb16",
   "metadata": {
    "papermill": {
     "duration": 0.018574,
     "end_time": "2022-10-21T03:24:31.811514",
     "exception": false,
     "start_time": "2022-10-21T03:24:31.792940",
     "status": "completed"
    },
    "tags": []
   },
   "source": [
    "##  1.- $\\mathscr{L}\\left\\lbrace{1}\\right\\rbrace$"
   ]
  },
  {
   "cell_type": "code",
   "execution_count": 3,
   "id": "e8613667",
   "metadata": {
    "execution": {
     "iopub.execute_input": "2022-10-21T03:24:31.850816Z",
     "iopub.status.busy": "2022-10-21T03:24:31.850161Z",
     "iopub.status.idle": "2022-10-21T03:24:31.866992Z",
     "shell.execute_reply": "2022-10-21T03:24:31.865773Z"
    },
    "papermill": {
     "duration": 0.039048,
     "end_time": "2022-10-21T03:24:31.869317",
     "exception": false,
     "start_time": "2022-10-21T03:24:31.830269",
     "status": "completed"
    },
    "tags": []
   },
   "outputs": [
    {
     "data": {
      "text/latex": [
       "$\\displaystyle 1$"
      ],
      "text/plain": [
       "1"
      ]
     },
     "execution_count": 3,
     "metadata": {},
     "output_type": "execute_result"
    }
   ],
   "source": [
    "t, s = sympy.symbols('t, s')\n",
    "a = sympy.symbols('a', real=True, positive=True)\n",
    "f = 1\n",
    "f"
   ]
  },
  {
   "cell_type": "code",
   "execution_count": 4,
   "id": "93a2530d",
   "metadata": {
    "execution": {
     "iopub.execute_input": "2022-10-21T03:24:31.909595Z",
     "iopub.status.busy": "2022-10-21T03:24:31.909151Z",
     "iopub.status.idle": "2022-10-21T03:24:32.749551Z",
     "shell.execute_reply": "2022-10-21T03:24:32.748330Z"
    },
    "papermill": {
     "duration": 0.863409,
     "end_time": "2022-10-21T03:24:32.751967",
     "exception": false,
     "start_time": "2022-10-21T03:24:31.888558",
     "status": "completed"
    },
    "tags": []
   },
   "outputs": [
    {
     "data": {
      "text/latex": [
       "$\\displaystyle \\frac{1}{s}$"
      ],
      "text/plain": [
       "1\n",
       "─\n",
       "s"
      ]
     },
     "execution_count": 4,
     "metadata": {},
     "output_type": "execute_result"
    }
   ],
   "source": [
    "F = sympy.laplace_transform(f, t, s, noconds=True)\n",
    "F"
   ]
  },
  {
   "cell_type": "markdown",
   "id": "3a425f26",
   "metadata": {
    "papermill": {
     "duration": 0.019321,
     "end_time": "2022-10-21T03:24:32.790784",
     "exception": false,
     "start_time": "2022-10-21T03:24:32.771463",
     "status": "completed"
    },
    "tags": []
   },
   "source": [
    "## 2.- $\\mathscr{L}\\left\\lbrace{2}\\right\\rbrace$"
   ]
  },
  {
   "cell_type": "code",
   "execution_count": 5,
   "id": "7c225be5",
   "metadata": {
    "execution": {
     "iopub.execute_input": "2022-10-21T03:24:32.831613Z",
     "iopub.status.busy": "2022-10-21T03:24:32.831201Z",
     "iopub.status.idle": "2022-10-21T03:24:32.839547Z",
     "shell.execute_reply": "2022-10-21T03:24:32.838329Z"
    },
    "papermill": {
     "duration": 0.031549,
     "end_time": "2022-10-21T03:24:32.841836",
     "exception": false,
     "start_time": "2022-10-21T03:24:32.810287",
     "status": "completed"
    },
    "tags": []
   },
   "outputs": [
    {
     "data": {
      "text/latex": [
       "$\\displaystyle 2$"
      ],
      "text/plain": [
       "2"
      ]
     },
     "execution_count": 5,
     "metadata": {},
     "output_type": "execute_result"
    }
   ],
   "source": [
    "t, s = sympy.symbols('t, s')\n",
    "a = sympy.symbols('a', real=True, positive=True)\n",
    "f = 2\n",
    "f"
   ]
  },
  {
   "cell_type": "code",
   "execution_count": 6,
   "id": "6a96a31c",
   "metadata": {
    "execution": {
     "iopub.execute_input": "2022-10-21T03:24:32.882790Z",
     "iopub.status.busy": "2022-10-21T03:24:32.882372Z",
     "iopub.status.idle": "2022-10-21T03:24:32.974174Z",
     "shell.execute_reply": "2022-10-21T03:24:32.972975Z"
    },
    "papermill": {
     "duration": 0.115032,
     "end_time": "2022-10-21T03:24:32.976645",
     "exception": false,
     "start_time": "2022-10-21T03:24:32.861613",
     "status": "completed"
    },
    "tags": []
   },
   "outputs": [
    {
     "data": {
      "text/latex": [
       "$\\displaystyle \\frac{2}{s}$"
      ],
      "text/plain": [
       "2\n",
       "─\n",
       "s"
      ]
     },
     "execution_count": 6,
     "metadata": {},
     "output_type": "execute_result"
    }
   ],
   "source": [
    "F = sympy.laplace_transform(f, t, s, noconds=True)\n",
    "F"
   ]
  },
  {
   "cell_type": "markdown",
   "id": "e072e9df",
   "metadata": {
    "papermill": {
     "duration": 0.019546,
     "end_time": "2022-10-21T03:24:33.015936",
     "exception": false,
     "start_time": "2022-10-21T03:24:32.996390",
     "status": "completed"
    },
    "tags": []
   },
   "source": [
    "## 3.- $\\mathscr{L}\\left\\lbrace{3}\\right\\rbrace$"
   ]
  },
  {
   "cell_type": "code",
   "execution_count": 7,
   "id": "462ca94c",
   "metadata": {
    "execution": {
     "iopub.execute_input": "2022-10-21T03:24:33.057166Z",
     "iopub.status.busy": "2022-10-21T03:24:33.056733Z",
     "iopub.status.idle": "2022-10-21T03:24:33.064374Z",
     "shell.execute_reply": "2022-10-21T03:24:33.063393Z"
    },
    "papermill": {
     "duration": 0.030897,
     "end_time": "2022-10-21T03:24:33.066571",
     "exception": false,
     "start_time": "2022-10-21T03:24:33.035674",
     "status": "completed"
    },
    "tags": []
   },
   "outputs": [
    {
     "data": {
      "text/latex": [
       "$\\displaystyle 3$"
      ],
      "text/plain": [
       "3"
      ]
     },
     "execution_count": 7,
     "metadata": {},
     "output_type": "execute_result"
    }
   ],
   "source": [
    "t, s = sympy.symbols('t, s')\n",
    "a = sympy.symbols('a', real=True, positive=True)\n",
    "f = 3\n",
    "f"
   ]
  },
  {
   "cell_type": "code",
   "execution_count": 8,
   "id": "64e2307e",
   "metadata": {
    "execution": {
     "iopub.execute_input": "2022-10-21T03:24:33.108102Z",
     "iopub.status.busy": "2022-10-21T03:24:33.107732Z",
     "iopub.status.idle": "2022-10-21T03:24:33.135528Z",
     "shell.execute_reply": "2022-10-21T03:24:33.134741Z"
    },
    "papermill": {
     "duration": 0.051157,
     "end_time": "2022-10-21T03:24:33.137624",
     "exception": false,
     "start_time": "2022-10-21T03:24:33.086467",
     "status": "completed"
    },
    "tags": []
   },
   "outputs": [
    {
     "data": {
      "text/latex": [
       "$\\displaystyle \\frac{3}{s}$"
      ],
      "text/plain": [
       "3\n",
       "─\n",
       "s"
      ]
     },
     "execution_count": 8,
     "metadata": {},
     "output_type": "execute_result"
    }
   ],
   "source": [
    "F = sympy.laplace_transform(f, t, s, noconds=True)\n",
    "F"
   ]
  },
  {
   "cell_type": "markdown",
   "id": "d5110b20",
   "metadata": {
    "papermill": {
     "duration": 0.019875,
     "end_time": "2022-10-21T03:24:33.177949",
     "exception": false,
     "start_time": "2022-10-21T03:24:33.158074",
     "status": "completed"
    },
    "tags": []
   },
   "source": [
    "## 4.-  $\\mathscr{L}\\left\\lbrace{{t}}\\right\\rbrace$"
   ]
  },
  {
   "cell_type": "code",
   "execution_count": 9,
   "id": "8f5060ed",
   "metadata": {
    "execution": {
     "iopub.execute_input": "2022-10-21T03:24:33.220235Z",
     "iopub.status.busy": "2022-10-21T03:24:33.219861Z",
     "iopub.status.idle": "2022-10-21T03:24:33.227294Z",
     "shell.execute_reply": "2022-10-21T03:24:33.226288Z"
    },
    "papermill": {
     "duration": 0.031215,
     "end_time": "2022-10-21T03:24:33.229317",
     "exception": false,
     "start_time": "2022-10-21T03:24:33.198102",
     "status": "completed"
    },
    "tags": []
   },
   "outputs": [
    {
     "data": {
      "text/latex": [
       "$\\displaystyle t$"
      ],
      "text/plain": [
       "t"
      ]
     },
     "execution_count": 9,
     "metadata": {},
     "output_type": "execute_result"
    }
   ],
   "source": [
    "t, s = sympy.symbols('t, s')\n",
    "a = sympy.symbols('a', real=True, positive=True)\n",
    "f = t\n",
    "f"
   ]
  },
  {
   "cell_type": "code",
   "execution_count": 10,
   "id": "694e02c8",
   "metadata": {
    "execution": {
     "iopub.execute_input": "2022-10-21T03:24:33.271623Z",
     "iopub.status.busy": "2022-10-21T03:24:33.271177Z",
     "iopub.status.idle": "2022-10-21T03:24:33.311136Z",
     "shell.execute_reply": "2022-10-21T03:24:33.309968Z"
    },
    "papermill": {
     "duration": 0.063889,
     "end_time": "2022-10-21T03:24:33.313650",
     "exception": false,
     "start_time": "2022-10-21T03:24:33.249761",
     "status": "completed"
    },
    "tags": []
   },
   "outputs": [
    {
     "data": {
      "text/latex": [
       "$\\displaystyle \\frac{1}{s^{2}}$"
      ],
      "text/plain": [
       "1 \n",
       "──\n",
       " 2\n",
       "s "
      ]
     },
     "execution_count": 10,
     "metadata": {},
     "output_type": "execute_result"
    }
   ],
   "source": [
    "F = sympy.laplace_transform(f, t, s, noconds=True)\n",
    "F"
   ]
  },
  {
   "cell_type": "markdown",
   "id": "2165ab9b",
   "metadata": {
    "papermill": {
     "duration": 0.019221,
     "end_time": "2022-10-21T03:24:33.353115",
     "exception": false,
     "start_time": "2022-10-21T03:24:33.333894",
     "status": "completed"
    },
    "tags": []
   },
   "source": [
    "## 5.-  $\\mathscr{L}\\left\\lbrace{{t^2}}\\right\\rbrace$"
   ]
  },
  {
   "cell_type": "code",
   "execution_count": 11,
   "id": "c915534d",
   "metadata": {
    "execution": {
     "iopub.execute_input": "2022-10-21T03:24:33.395084Z",
     "iopub.status.busy": "2022-10-21T03:24:33.394709Z",
     "iopub.status.idle": "2022-10-21T03:24:33.402824Z",
     "shell.execute_reply": "2022-10-21T03:24:33.401727Z"
    },
    "papermill": {
     "duration": 0.031897,
     "end_time": "2022-10-21T03:24:33.404999",
     "exception": false,
     "start_time": "2022-10-21T03:24:33.373102",
     "status": "completed"
    },
    "tags": []
   },
   "outputs": [
    {
     "data": {
      "text/latex": [
       "$\\displaystyle t^{2}$"
      ],
      "text/plain": [
       " 2\n",
       "t "
      ]
     },
     "execution_count": 11,
     "metadata": {},
     "output_type": "execute_result"
    }
   ],
   "source": [
    "t, s = sympy.symbols('t, s')\n",
    "a = sympy.symbols('a', real=True, positive=True)\n",
    "f = t**2\n",
    "f"
   ]
  },
  {
   "cell_type": "code",
   "execution_count": 12,
   "id": "d9b4b9d4",
   "metadata": {
    "execution": {
     "iopub.execute_input": "2022-10-21T03:24:33.447529Z",
     "iopub.status.busy": "2022-10-21T03:24:33.447139Z",
     "iopub.status.idle": "2022-10-21T03:24:33.483220Z",
     "shell.execute_reply": "2022-10-21T03:24:33.482013Z"
    },
    "papermill": {
     "duration": 0.060232,
     "end_time": "2022-10-21T03:24:33.485594",
     "exception": false,
     "start_time": "2022-10-21T03:24:33.425362",
     "status": "completed"
    },
    "tags": []
   },
   "outputs": [
    {
     "data": {
      "text/latex": [
       "$\\displaystyle \\frac{2}{s^{3}}$"
      ],
      "text/plain": [
       "2 \n",
       "──\n",
       " 3\n",
       "s "
      ]
     },
     "execution_count": 12,
     "metadata": {},
     "output_type": "execute_result"
    }
   ],
   "source": [
    "F = sympy.laplace_transform(f, t, s, noconds=True)\n",
    "F"
   ]
  },
  {
   "cell_type": "markdown",
   "id": "941785a9",
   "metadata": {
    "papermill": {
     "duration": 0.019332,
     "end_time": "2022-10-21T03:24:33.524734",
     "exception": false,
     "start_time": "2022-10-21T03:24:33.505402",
     "status": "completed"
    },
    "tags": []
   },
   "source": [
    "## 6.-  $\\mathscr{L}\\left\\lbrace{{t^3}}\\right\\rbrace$"
   ]
  },
  {
   "cell_type": "code",
   "execution_count": 13,
   "id": "01526312",
   "metadata": {
    "execution": {
     "iopub.execute_input": "2022-10-21T03:24:33.566869Z",
     "iopub.status.busy": "2022-10-21T03:24:33.566235Z",
     "iopub.status.idle": "2022-10-21T03:24:33.575387Z",
     "shell.execute_reply": "2022-10-21T03:24:33.574294Z"
    },
    "papermill": {
     "duration": 0.033157,
     "end_time": "2022-10-21T03:24:33.577658",
     "exception": false,
     "start_time": "2022-10-21T03:24:33.544501",
     "status": "completed"
    },
    "tags": []
   },
   "outputs": [
    {
     "data": {
      "text/latex": [
       "$\\displaystyle t^{3}$"
      ],
      "text/plain": [
       " 3\n",
       "t "
      ]
     },
     "execution_count": 13,
     "metadata": {},
     "output_type": "execute_result"
    }
   ],
   "source": [
    "t, s = sympy.symbols('t, s')\n",
    "a = sympy.symbols('a', real=True, positive=True)\n",
    "f = t**3\n",
    "f"
   ]
  },
  {
   "cell_type": "code",
   "execution_count": 14,
   "id": "dc5be809",
   "metadata": {
    "execution": {
     "iopub.execute_input": "2022-10-21T03:24:33.621110Z",
     "iopub.status.busy": "2022-10-21T03:24:33.620031Z",
     "iopub.status.idle": "2022-10-21T03:24:33.655197Z",
     "shell.execute_reply": "2022-10-21T03:24:33.654243Z"
    },
    "papermill": {
     "duration": 0.0594,
     "end_time": "2022-10-21T03:24:33.657756",
     "exception": false,
     "start_time": "2022-10-21T03:24:33.598356",
     "status": "completed"
    },
    "tags": []
   },
   "outputs": [
    {
     "data": {
      "text/latex": [
       "$\\displaystyle \\frac{6}{s^{4}}$"
      ],
      "text/plain": [
       "6 \n",
       "──\n",
       " 4\n",
       "s "
      ]
     },
     "execution_count": 14,
     "metadata": {},
     "output_type": "execute_result"
    }
   ],
   "source": [
    "F = sympy.laplace_transform(f, t, s, noconds=True)\n",
    "F"
   ]
  },
  {
   "cell_type": "markdown",
   "id": "ba80e1b2",
   "metadata": {
    "papermill": {
     "duration": 0.020564,
     "end_time": "2022-10-21T03:24:33.699167",
     "exception": false,
     "start_time": "2022-10-21T03:24:33.678603",
     "status": "completed"
    },
    "tags": []
   },
   "source": [
    "## 7.- $\\mathscr{L}\\left\\lbrace{{e^{-3t}}}\\right\\rbrace$"
   ]
  },
  {
   "cell_type": "code",
   "execution_count": 15,
   "id": "96cab2ef",
   "metadata": {
    "execution": {
     "iopub.execute_input": "2022-10-21T03:24:33.742829Z",
     "iopub.status.busy": "2022-10-21T03:24:33.742201Z",
     "iopub.status.idle": "2022-10-21T03:24:33.752146Z",
     "shell.execute_reply": "2022-10-21T03:24:33.751279Z"
    },
    "papermill": {
     "duration": 0.034037,
     "end_time": "2022-10-21T03:24:33.754329",
     "exception": false,
     "start_time": "2022-10-21T03:24:33.720292",
     "status": "completed"
    },
    "tags": []
   },
   "outputs": [
    {
     "data": {
      "text/latex": [
       "$\\displaystyle e^{- 3 t}$"
      ],
      "text/plain": [
       " -3⋅t\n",
       "e    "
      ]
     },
     "execution_count": 15,
     "metadata": {},
     "output_type": "execute_result"
    }
   ],
   "source": [
    "t, s = sympy.symbols('t, s')\n",
    "e = sympy.Symbol('e')\n",
    "a = sympy.symbols('a', real=True, positive=True)\n",
    "f = e**(-3*t)\n",
    "f"
   ]
  },
  {
   "cell_type": "code",
   "execution_count": 16,
   "id": "6d184ee8",
   "metadata": {
    "execution": {
     "iopub.execute_input": "2022-10-21T03:24:33.797609Z",
     "iopub.status.busy": "2022-10-21T03:24:33.797192Z",
     "iopub.status.idle": "2022-10-21T03:24:33.855869Z",
     "shell.execute_reply": "2022-10-21T03:24:33.854560Z"
    },
    "papermill": {
     "duration": 0.083487,
     "end_time": "2022-10-21T03:24:33.858502",
     "exception": false,
     "start_time": "2022-10-21T03:24:33.775015",
     "status": "completed"
    },
    "tags": []
   },
   "outputs": [
    {
     "data": {
      "text/latex": [
       "$\\displaystyle \\frac{1}{s + 3}$"
      ],
      "text/plain": [
       "  1  \n",
       "─────\n",
       "s + 3"
      ]
     },
     "execution_count": 16,
     "metadata": {},
     "output_type": "execute_result"
    }
   ],
   "source": [
    "X, a, cond = sympy.laplace_transform(sympy.exp(-3*t), t, s)\n",
    "X, a, cond\n",
    "X"
   ]
  },
  {
   "cell_type": "markdown",
   "id": "fbb705cb",
   "metadata": {
    "papermill": {
     "duration": 0.020313,
     "end_time": "2022-10-21T03:24:33.899799",
     "exception": false,
     "start_time": "2022-10-21T03:24:33.879486",
     "status": "completed"
    },
    "tags": []
   },
   "source": [
    "## 8.- $\\mathscr{L}\\left\\lbrace{{sen(2t)}}\\right\\rbrace$"
   ]
  },
  {
   "cell_type": "code",
   "execution_count": 17,
   "id": "dbfdf2b7",
   "metadata": {
    "execution": {
     "iopub.execute_input": "2022-10-21T03:24:33.945045Z",
     "iopub.status.busy": "2022-10-21T03:24:33.943279Z",
     "iopub.status.idle": "2022-10-21T03:24:33.954830Z",
     "shell.execute_reply": "2022-10-21T03:24:33.953890Z"
    },
    "papermill": {
     "duration": 0.036308,
     "end_time": "2022-10-21T03:24:33.957022",
     "exception": false,
     "start_time": "2022-10-21T03:24:33.920714",
     "status": "completed"
    },
    "tags": []
   },
   "outputs": [
    {
     "data": {
      "text/latex": [
       "$\\displaystyle \\sin{\\left(2 t \\right)}$"
      ],
      "text/plain": [
       "sin(2⋅t)"
      ]
     },
     "execution_count": 17,
     "metadata": {},
     "output_type": "execute_result"
    }
   ],
   "source": [
    "t, s = sympy.symbols('t, s')\n",
    "a = sympy.symbols('a', real=True, positive=True)\n",
    "f = sympy.sin(2*t)\n",
    "f"
   ]
  },
  {
   "cell_type": "code",
   "execution_count": 18,
   "id": "a8f8c040",
   "metadata": {
    "execution": {
     "iopub.execute_input": "2022-10-21T03:24:34.001803Z",
     "iopub.status.busy": "2022-10-21T03:24:34.000973Z",
     "iopub.status.idle": "2022-10-21T03:24:34.064883Z",
     "shell.execute_reply": "2022-10-21T03:24:34.063645Z"
    },
    "papermill": {
     "duration": 0.089046,
     "end_time": "2022-10-21T03:24:34.067346",
     "exception": false,
     "start_time": "2022-10-21T03:24:33.978300",
     "status": "completed"
    },
    "tags": []
   },
   "outputs": [
    {
     "data": {
      "text/latex": [
       "$\\displaystyle \\frac{2}{s^{2} + 4}$"
      ],
      "text/plain": [
       "  2   \n",
       "──────\n",
       " 2    \n",
       "s  + 4"
      ]
     },
     "execution_count": 18,
     "metadata": {},
     "output_type": "execute_result"
    }
   ],
   "source": [
    "F = sympy.laplace_transform(f, t, s, noconds=True)\n",
    "F"
   ]
  },
  {
   "cell_type": "markdown",
   "id": "68cccec7",
   "metadata": {
    "papermill": {
     "duration": 0.021207,
     "end_time": "2022-10-21T03:24:34.109564",
     "exception": false,
     "start_time": "2022-10-21T03:24:34.088357",
     "status": "completed"
    },
    "tags": []
   },
   "source": [
    "##  9.- $\\mathscr{L}\\left\\lbrace{{1+5t}}\\right\\rbrace$"
   ]
  },
  {
   "cell_type": "code",
   "execution_count": 19,
   "id": "f954fa9a",
   "metadata": {
    "execution": {
     "iopub.execute_input": "2022-10-21T03:24:34.154569Z",
     "iopub.status.busy": "2022-10-21T03:24:34.153806Z",
     "iopub.status.idle": "2022-10-21T03:24:34.163514Z",
     "shell.execute_reply": "2022-10-21T03:24:34.162616Z"
    },
    "papermill": {
     "duration": 0.035087,
     "end_time": "2022-10-21T03:24:34.165777",
     "exception": false,
     "start_time": "2022-10-21T03:24:34.130690",
     "status": "completed"
    },
    "tags": []
   },
   "outputs": [
    {
     "data": {
      "text/latex": [
       "$\\displaystyle 5 t + 1$"
      ],
      "text/plain": [
       "5⋅t + 1"
      ]
     },
     "execution_count": 19,
     "metadata": {},
     "output_type": "execute_result"
    }
   ],
   "source": [
    "t, s = sympy.symbols('t, s')\n",
    "a = sympy.symbols('a', real=True, positive=True)\n",
    "f = 1+5*t\n",
    "f"
   ]
  },
  {
   "cell_type": "code",
   "execution_count": 20,
   "id": "050ca18d",
   "metadata": {
    "execution": {
     "iopub.execute_input": "2022-10-21T03:24:34.211197Z",
     "iopub.status.busy": "2022-10-21T03:24:34.210403Z",
     "iopub.status.idle": "2022-10-21T03:24:34.288108Z",
     "shell.execute_reply": "2022-10-21T03:24:34.287061Z"
    },
    "papermill": {
     "duration": 0.103356,
     "end_time": "2022-10-21T03:24:34.290677",
     "exception": false,
     "start_time": "2022-10-21T03:24:34.187321",
     "status": "completed"
    },
    "tags": []
   },
   "outputs": [
    {
     "data": {
      "text/latex": [
       "$\\displaystyle \\frac{s + 5}{s^{2}}$"
      ],
      "text/plain": [
       "s + 5\n",
       "─────\n",
       "   2 \n",
       "  s  "
      ]
     },
     "execution_count": 20,
     "metadata": {},
     "output_type": "execute_result"
    }
   ],
   "source": [
    "F = sympy.laplace_transform(f, t, s, noconds=True)\n",
    "F"
   ]
  },
  {
   "cell_type": "markdown",
   "id": "5da3dbc5",
   "metadata": {
    "papermill": {
     "duration": 0.020942,
     "end_time": "2022-10-21T03:24:34.333067",
     "exception": false,
     "start_time": "2022-10-21T03:24:34.312125",
     "status": "completed"
    },
    "tags": []
   },
   "source": [
    "##  10.- $\\mathscr{L^{-1}}\\left\\lbrace{5e^{-3t}-2sen(2t) }\\right\\rbrace$"
   ]
  },
  {
   "cell_type": "code",
   "execution_count": 21,
   "id": "2a8167d4",
   "metadata": {
    "execution": {
     "iopub.execute_input": "2022-10-21T03:24:34.379738Z",
     "iopub.status.busy": "2022-10-21T03:24:34.379081Z",
     "iopub.status.idle": "2022-10-21T03:24:34.391038Z",
     "shell.execute_reply": "2022-10-21T03:24:34.389962Z"
    },
    "papermill": {
     "duration": 0.03785,
     "end_time": "2022-10-21T03:24:34.393193",
     "exception": false,
     "start_time": "2022-10-21T03:24:34.355343",
     "status": "completed"
    },
    "tags": []
   },
   "outputs": [
    {
     "data": {
      "text/latex": [
       "$\\displaystyle - 2 \\sin{\\left(2 t \\right)} + 5 e^{- 3 t}$"
      ],
      "text/plain": [
       "                 -3⋅t\n",
       "-2⋅sin(2⋅t) + 5⋅e    "
      ]
     },
     "execution_count": 21,
     "metadata": {},
     "output_type": "execute_result"
    }
   ],
   "source": [
    "t, s = sympy.symbols('t, s')\n",
    "e = sympy.Symbol('e')\n",
    "a = sympy.symbols('a', real=True, positive=True)\n",
    "\n",
    "f = 5*e**(-3*t)-2*sympy.sin(2*t)\n",
    "f"
   ]
  },
  {
   "cell_type": "code",
   "execution_count": 22,
   "id": "7e73b478",
   "metadata": {
    "execution": {
     "iopub.execute_input": "2022-10-21T03:24:34.439464Z",
     "iopub.status.busy": "2022-10-21T03:24:34.438817Z",
     "iopub.status.idle": "2022-10-21T03:24:34.608003Z",
     "shell.execute_reply": "2022-10-21T03:24:34.606772Z"
    },
    "papermill": {
     "duration": 0.194879,
     "end_time": "2022-10-21T03:24:34.610226",
     "exception": false,
     "start_time": "2022-10-21T03:24:34.415347",
     "status": "completed"
    },
    "tags": []
   },
   "outputs": [
    {
     "data": {
      "text/latex": [
       "$\\displaystyle \\frac{5 s^{2} - 4 s + 8}{\\left(s + 3\\right) \\left(s^{2} + 4\\right)}$"
      ],
      "text/plain": [
       "    2           \n",
       " 5⋅s  - 4⋅s + 8 \n",
       "────────────────\n",
       "        ⎛ 2    ⎞\n",
       "(s + 3)⋅⎝s  + 4⎠"
      ]
     },
     "execution_count": 22,
     "metadata": {},
     "output_type": "execute_result"
    }
   ],
   "source": [
    "X, a, cond = sympy.laplace_transform(5*sympy.exp(-3*t)-2*sympy.sin(2*t), t, s)\n",
    "X, a, cond\n",
    "X"
   ]
  },
  {
   "cell_type": "markdown",
   "id": "02547dac",
   "metadata": {
    "papermill": {
     "duration": 0.021391,
     "end_time": "2022-10-21T03:24:34.653626",
     "exception": false,
     "start_time": "2022-10-21T03:24:34.632235",
     "status": "completed"
    },
    "tags": []
   },
   "source": [
    " ## 11.- $\\mathscr{L}\\left\\lbrace{t cos(t)}\\right\\rbrace$"
   ]
  },
  {
   "cell_type": "code",
   "execution_count": 23,
   "id": "f0942b3e",
   "metadata": {
    "execution": {
     "iopub.execute_input": "2022-10-21T03:24:34.699304Z",
     "iopub.status.busy": "2022-10-21T03:24:34.698617Z",
     "iopub.status.idle": "2022-10-21T03:24:34.707334Z",
     "shell.execute_reply": "2022-10-21T03:24:34.706294Z"
    },
    "papermill": {
     "duration": 0.034002,
     "end_time": "2022-10-21T03:24:34.709511",
     "exception": false,
     "start_time": "2022-10-21T03:24:34.675509",
     "status": "completed"
    },
    "tags": []
   },
   "outputs": [
    {
     "data": {
      "text/latex": [
       "$\\displaystyle t \\cos{\\left(t \\right)}$"
      ],
      "text/plain": [
       "t⋅cos(t)"
      ]
     },
     "execution_count": 23,
     "metadata": {},
     "output_type": "execute_result"
    }
   ],
   "source": [
    "t, s = sympy.symbols('t, s')\n",
    "a = sympy.symbols('a', real=True, positive=True)\n",
    "f = t*sympy.cos(t)\n",
    "f"
   ]
  },
  {
   "cell_type": "code",
   "execution_count": 24,
   "id": "9d5d55f2",
   "metadata": {
    "execution": {
     "iopub.execute_input": "2022-10-21T03:24:34.754927Z",
     "iopub.status.busy": "2022-10-21T03:24:34.754220Z",
     "iopub.status.idle": "2022-10-21T03:24:34.975269Z",
     "shell.execute_reply": "2022-10-21T03:24:34.974110Z"
    },
    "papermill": {
     "duration": 0.246292,
     "end_time": "2022-10-21T03:24:34.977564",
     "exception": false,
     "start_time": "2022-10-21T03:24:34.731272",
     "status": "completed"
    },
    "tags": []
   },
   "outputs": [
    {
     "data": {
      "text/latex": [
       "$\\displaystyle \\frac{s^{2} - 1}{s^{4} + 2 s^{2} + 1}$"
      ],
      "text/plain": [
       "     2       \n",
       "    s  - 1   \n",
       "─────────────\n",
       " 4      2    \n",
       "s  + 2⋅s  + 1"
      ]
     },
     "execution_count": 24,
     "metadata": {},
     "output_type": "execute_result"
    }
   ],
   "source": [
    "F = sympy.laplace_transform(f, t, s, noconds=True)\n",
    "F"
   ]
  },
  {
   "cell_type": "markdown",
   "id": "607a3d89",
   "metadata": {
    "papermill": {
     "duration": 0.021635,
     "end_time": "2022-10-21T03:24:35.021206",
     "exception": false,
     "start_time": "2022-10-21T03:24:34.999571",
     "status": "completed"
    },
    "tags": []
   },
   "source": [
    "# Transformada Inversa de Laplace"
   ]
  },
  {
   "cell_type": "markdown",
   "id": "e62cf149",
   "metadata": {
    "papermill": {
     "duration": 0.021555,
     "end_time": "2022-10-21T03:24:35.064728",
     "exception": false,
     "start_time": "2022-10-21T03:24:35.043173",
     "status": "completed"
    },
    "tags": []
   },
   "source": [
    "## 1.- $\\mathscr{L^{-1}}\\left\\lbrace{\\frac {1}{s^5}}\\right\\rbrace$"
   ]
  },
  {
   "cell_type": "code",
   "execution_count": 25,
   "id": "5d68d481",
   "metadata": {
    "execution": {
     "iopub.execute_input": "2022-10-21T03:24:35.110268Z",
     "iopub.status.busy": "2022-10-21T03:24:35.109853Z",
     "iopub.status.idle": "2022-10-21T03:24:35.118523Z",
     "shell.execute_reply": "2022-10-21T03:24:35.117435Z"
    },
    "papermill": {
     "duration": 0.034098,
     "end_time": "2022-10-21T03:24:35.120696",
     "exception": false,
     "start_time": "2022-10-21T03:24:35.086598",
     "status": "completed"
    },
    "tags": []
   },
   "outputs": [
    {
     "data": {
      "text/latex": [
       "$\\displaystyle \\frac{1}{s^{5}}$"
      ],
      "text/plain": [
       "1 \n",
       "──\n",
       " 5\n",
       "s "
      ]
     },
     "execution_count": 25,
     "metadata": {},
     "output_type": "execute_result"
    }
   ],
   "source": [
    "s,t = sympy.symbols('s t')\n",
    "a = sympy.symbols('a', real=True, positive=True)\n",
    "Fs = 1/(s**5)\n",
    "Fs"
   ]
  },
  {
   "cell_type": "code",
   "execution_count": 26,
   "id": "69b17de3",
   "metadata": {
    "execution": {
     "iopub.execute_input": "2022-10-21T03:24:35.167097Z",
     "iopub.status.busy": "2022-10-21T03:24:35.166662Z",
     "iopub.status.idle": "2022-10-21T03:24:36.094862Z",
     "shell.execute_reply": "2022-10-21T03:24:36.093726Z"
    },
    "papermill": {
     "duration": 0.954568,
     "end_time": "2022-10-21T03:24:36.097509",
     "exception": false,
     "start_time": "2022-10-21T03:24:35.142941",
     "status": "completed"
    },
    "tags": []
   },
   "outputs": [
    {
     "data": {
      "text/latex": [
       "$\\displaystyle \\frac{t^{4} \\theta\\left(t\\right)}{24}$"
      ],
      "text/plain": [
       " 4     \n",
       "t ⋅θ(t)\n",
       "───────\n",
       "   24  "
      ]
     },
     "execution_count": 26,
     "metadata": {},
     "output_type": "execute_result"
    }
   ],
   "source": [
    "ft = sympy.inverse_laplace_transform(Fs,s,t)\n",
    "ft"
   ]
  },
  {
   "cell_type": "markdown",
   "id": "1c441d95",
   "metadata": {
    "papermill": {
     "duration": 0.025559,
     "end_time": "2022-10-21T03:24:36.148210",
     "exception": false,
     "start_time": "2022-10-21T03:24:36.122651",
     "status": "completed"
    },
    "tags": []
   },
   "source": [
    "## 2.- $\\mathscr{L^{-1}}\\left\\lbrace{\\frac {1}{s^2 +7}}\\right\\rbrace$"
   ]
  },
  {
   "cell_type": "code",
   "execution_count": 27,
   "id": "c1e43184",
   "metadata": {
    "execution": {
     "iopub.execute_input": "2022-10-21T03:24:36.195913Z",
     "iopub.status.busy": "2022-10-21T03:24:36.195518Z",
     "iopub.status.idle": "2022-10-21T03:24:36.204404Z",
     "shell.execute_reply": "2022-10-21T03:24:36.203313Z"
    },
    "papermill": {
     "duration": 0.035246,
     "end_time": "2022-10-21T03:24:36.206742",
     "exception": false,
     "start_time": "2022-10-21T03:24:36.171496",
     "status": "completed"
    },
    "tags": []
   },
   "outputs": [
    {
     "data": {
      "text/latex": [
       "$\\displaystyle \\frac{1}{s^{2} + 7}$"
      ],
      "text/plain": [
       "  1   \n",
       "──────\n",
       " 2    \n",
       "s  + 7"
      ]
     },
     "execution_count": 27,
     "metadata": {},
     "output_type": "execute_result"
    }
   ],
   "source": [
    "s,t = sympy.symbols('s t')\n",
    "a = sympy.symbols('a', real=True, positive=True)\n",
    "Fs = 1/((s**2)+7)\n",
    "Fs"
   ]
  },
  {
   "cell_type": "code",
   "execution_count": 28,
   "id": "92e0ad7a",
   "metadata": {
    "execution": {
     "iopub.execute_input": "2022-10-21T03:24:36.254501Z",
     "iopub.status.busy": "2022-10-21T03:24:36.254092Z",
     "iopub.status.idle": "2022-10-21T03:24:39.360125Z",
     "shell.execute_reply": "2022-10-21T03:24:39.359121Z"
    },
    "papermill": {
     "duration": 3.132344,
     "end_time": "2022-10-21T03:24:39.362264",
     "exception": false,
     "start_time": "2022-10-21T03:24:36.229920",
     "status": "completed"
    },
    "tags": []
   },
   "outputs": [
    {
     "data": {
      "text/latex": [
       "$\\displaystyle \\frac{\\sqrt{7} \\sin{\\left(\\sqrt{7} t \\right)} \\theta\\left(t\\right)}{7}$"
      ],
      "text/plain": [
       "√7⋅sin(√7⋅t)⋅θ(t)\n",
       "─────────────────\n",
       "        7        "
      ]
     },
     "execution_count": 28,
     "metadata": {},
     "output_type": "execute_result"
    }
   ],
   "source": [
    "ft = sympy.inverse_laplace_transform(Fs,s,t)\n",
    "ft"
   ]
  },
  {
   "cell_type": "markdown",
   "id": "3ee5ced9",
   "metadata": {
    "papermill": {
     "duration": 0.022225,
     "end_time": "2022-10-21T03:24:39.406837",
     "exception": false,
     "start_time": "2022-10-21T03:24:39.384612",
     "status": "completed"
    },
    "tags": []
   },
   "source": [
    "## 3.- $\\mathscr{L^{-1}}\\left\\lbrace{\\frac {1}{s^4}}\\right\\rbrace$"
   ]
  },
  {
   "cell_type": "code",
   "execution_count": 29,
   "id": "baeafe02",
   "metadata": {
    "execution": {
     "iopub.execute_input": "2022-10-21T03:24:39.453929Z",
     "iopub.status.busy": "2022-10-21T03:24:39.453234Z",
     "iopub.status.idle": "2022-10-21T03:24:39.461822Z",
     "shell.execute_reply": "2022-10-21T03:24:39.460752Z"
    },
    "papermill": {
     "duration": 0.034738,
     "end_time": "2022-10-21T03:24:39.464112",
     "exception": false,
     "start_time": "2022-10-21T03:24:39.429374",
     "status": "completed"
    },
    "tags": []
   },
   "outputs": [
    {
     "data": {
      "text/latex": [
       "$\\displaystyle \\frac{1}{s^{4}}$"
      ],
      "text/plain": [
       "1 \n",
       "──\n",
       " 4\n",
       "s "
      ]
     },
     "execution_count": 29,
     "metadata": {},
     "output_type": "execute_result"
    }
   ],
   "source": [
    "s,t = sympy.symbols('s t')\n",
    "a = sympy.symbols('a', real=True, positive=True)\n",
    "Fs = 1/(s**4)\n",
    "Fs"
   ]
  },
  {
   "cell_type": "code",
   "execution_count": 30,
   "id": "be69f4fe",
   "metadata": {
    "execution": {
     "iopub.execute_input": "2022-10-21T03:24:39.511941Z",
     "iopub.status.busy": "2022-10-21T03:24:39.511165Z",
     "iopub.status.idle": "2022-10-21T03:24:40.076627Z",
     "shell.execute_reply": "2022-10-21T03:24:40.075355Z"
    },
    "papermill": {
     "duration": 0.592176,
     "end_time": "2022-10-21T03:24:40.079035",
     "exception": false,
     "start_time": "2022-10-21T03:24:39.486859",
     "status": "completed"
    },
    "tags": []
   },
   "outputs": [
    {
     "data": {
      "text/latex": [
       "$\\displaystyle \\frac{t^{3} \\theta\\left(t\\right)}{6}$"
      ],
      "text/plain": [
       " 3     \n",
       "t ⋅θ(t)\n",
       "───────\n",
       "   6   "
      ]
     },
     "execution_count": 30,
     "metadata": {},
     "output_type": "execute_result"
    }
   ],
   "source": [
    "ft = sympy.inverse_laplace_transform(Fs,s,t)\n",
    "ft"
   ]
  },
  {
   "cell_type": "markdown",
   "id": "25288b57",
   "metadata": {
    "papermill": {
     "duration": 0.024447,
     "end_time": "2022-10-21T03:24:40.126422",
     "exception": false,
     "start_time": "2022-10-21T03:24:40.101975",
     "status": "completed"
    },
    "tags": []
   },
   "source": [
    "## 4.- $\\mathscr{L^{-1}}\\left\\lbrace{\\frac {10s}{s^2 +16}}\\right\\rbrace$"
   ]
  },
  {
   "cell_type": "code",
   "execution_count": 31,
   "id": "fd261017",
   "metadata": {
    "execution": {
     "iopub.execute_input": "2022-10-21T03:24:40.177632Z",
     "iopub.status.busy": "2022-10-21T03:24:40.176888Z",
     "iopub.status.idle": "2022-10-21T03:24:40.188404Z",
     "shell.execute_reply": "2022-10-21T03:24:40.187295Z"
    },
    "papermill": {
     "duration": 0.038493,
     "end_time": "2022-10-21T03:24:40.190763",
     "exception": false,
     "start_time": "2022-10-21T03:24:40.152270",
     "status": "completed"
    },
    "tags": []
   },
   "outputs": [
    {
     "data": {
      "text/latex": [
       "$\\displaystyle \\frac{10 s}{s^{2} + 16}$"
      ],
      "text/plain": [
       "  10⋅s \n",
       "───────\n",
       " 2     \n",
       "s  + 16"
      ]
     },
     "execution_count": 31,
     "metadata": {},
     "output_type": "execute_result"
    }
   ],
   "source": [
    "s,t = sympy.symbols('s t')\n",
    "a = sympy.symbols('a', real=True, positive=True)\n",
    "Fs = 10*s/((s**2)+16)\n",
    "Fs"
   ]
  },
  {
   "cell_type": "code",
   "execution_count": 32,
   "id": "afd6cbba",
   "metadata": {
    "execution": {
     "iopub.execute_input": "2022-10-21T03:24:40.238396Z",
     "iopub.status.busy": "2022-10-21T03:24:40.237367Z",
     "iopub.status.idle": "2022-10-21T03:24:44.531114Z",
     "shell.execute_reply": "2022-10-21T03:24:44.529972Z"
    },
    "papermill": {
     "duration": 4.320339,
     "end_time": "2022-10-21T03:24:44.533707",
     "exception": false,
     "start_time": "2022-10-21T03:24:40.213368",
     "status": "completed"
    },
    "tags": []
   },
   "outputs": [
    {
     "data": {
      "text/latex": [
       "$\\displaystyle 10 \\cos{\\left(4 t \\right)} \\theta\\left(t\\right)$"
      ],
      "text/plain": [
       "10⋅cos(4⋅t)⋅θ(t)"
      ]
     },
     "execution_count": 32,
     "metadata": {},
     "output_type": "execute_result"
    }
   ],
   "source": [
    "ft = sympy.inverse_laplace_transform(Fs,s,t)\n",
    "ft"
   ]
  },
  {
   "cell_type": "markdown",
   "id": "6b2770bc",
   "metadata": {
    "papermill": {
     "duration": 0.022999,
     "end_time": "2022-10-21T03:24:44.579795",
     "exception": false,
     "start_time": "2022-10-21T03:24:44.556796",
     "status": "completed"
    },
    "tags": []
   },
   "source": [
    "## 5.- $\\mathscr{L^{-1}}\\left\\lbrace{\\frac {1}{s^3+5s}}\\right\\rbrace$"
   ]
  },
  {
   "cell_type": "code",
   "execution_count": 33,
   "id": "b5a31608",
   "metadata": {
    "execution": {
     "iopub.execute_input": "2022-10-21T03:24:44.627859Z",
     "iopub.status.busy": "2022-10-21T03:24:44.627439Z",
     "iopub.status.idle": "2022-10-21T03:24:44.638152Z",
     "shell.execute_reply": "2022-10-21T03:24:44.637182Z"
    },
    "papermill": {
     "duration": 0.037583,
     "end_time": "2022-10-21T03:24:44.640511",
     "exception": false,
     "start_time": "2022-10-21T03:24:44.602928",
     "status": "completed"
    },
    "tags": []
   },
   "outputs": [
    {
     "data": {
      "text/latex": [
       "$\\displaystyle \\frac{1}{s^{3} + 5 s}$"
      ],
      "text/plain": [
       "   1    \n",
       "────────\n",
       " 3      \n",
       "s  + 5⋅s"
      ]
     },
     "execution_count": 33,
     "metadata": {},
     "output_type": "execute_result"
    }
   ],
   "source": [
    "s,t = sympy.symbols('s t')\n",
    "a = sympy.symbols('a', real=True, positive=True)\n",
    "Fs = 1/((s**3)+(5*s))\n",
    "Fs"
   ]
  },
  {
   "cell_type": "code",
   "execution_count": 34,
   "id": "16b240d0",
   "metadata": {
    "execution": {
     "iopub.execute_input": "2022-10-21T03:24:44.688964Z",
     "iopub.status.busy": "2022-10-21T03:24:44.688268Z",
     "iopub.status.idle": "2022-10-21T03:24:48.141644Z",
     "shell.execute_reply": "2022-10-21T03:24:48.140380Z"
    },
    "papermill": {
     "duration": 3.480115,
     "end_time": "2022-10-21T03:24:48.143980",
     "exception": false,
     "start_time": "2022-10-21T03:24:44.663865",
     "status": "completed"
    },
    "tags": []
   },
   "outputs": [
    {
     "data": {
      "text/latex": [
       "$\\displaystyle \\frac{\\left(1 - \\cos{\\left(\\sqrt{5} t \\right)}\\right) \\theta\\left(t\\right)}{5}$"
      ],
      "text/plain": [
       "(1 - cos(√5⋅t))⋅θ(t)\n",
       "────────────────────\n",
       "         5          "
      ]
     },
     "execution_count": 34,
     "metadata": {},
     "output_type": "execute_result"
    }
   ],
   "source": [
    "ft = sympy.inverse_laplace_transform(Fs,s,t)\n",
    "ft"
   ]
  },
  {
   "cell_type": "markdown",
   "id": "4574b630",
   "metadata": {
    "papermill": {
     "duration": 0.023385,
     "end_time": "2022-10-21T03:24:48.190488",
     "exception": false,
     "start_time": "2022-10-21T03:24:48.167103",
     "status": "completed"
    },
    "tags": []
   },
   "source": [
    "## 6.- $\\mathscr{L^{-1}}\\left\\lbrace{\\frac {s}{s^2+2s-3}}\\right\\rbrace$"
   ]
  },
  {
   "cell_type": "code",
   "execution_count": 35,
   "id": "30e39a69",
   "metadata": {
    "execution": {
     "iopub.execute_input": "2022-10-21T03:24:48.238609Z",
     "iopub.status.busy": "2022-10-21T03:24:48.237943Z",
     "iopub.status.idle": "2022-10-21T03:24:48.248952Z",
     "shell.execute_reply": "2022-10-21T03:24:48.247872Z"
    },
    "papermill": {
     "duration": 0.037492,
     "end_time": "2022-10-21T03:24:48.251102",
     "exception": false,
     "start_time": "2022-10-21T03:24:48.213610",
     "status": "completed"
    },
    "tags": []
   },
   "outputs": [
    {
     "data": {
      "text/latex": [
       "$\\displaystyle \\frac{s}{s^{2} + 2 s - 3}$"
      ],
      "text/plain": [
       "     s      \n",
       "────────────\n",
       " 2          \n",
       "s  + 2⋅s - 3"
      ]
     },
     "execution_count": 35,
     "metadata": {},
     "output_type": "execute_result"
    }
   ],
   "source": [
    "s,t = sympy.symbols('s t')\n",
    "a = sympy.symbols('a', real=True, positive=True)\n",
    "Fs = s/((s**2)+(2*s)-3)\n",
    "Fs"
   ]
  },
  {
   "cell_type": "code",
   "execution_count": 36,
   "id": "86c677fd",
   "metadata": {
    "execution": {
     "iopub.execute_input": "2022-10-21T03:24:48.299196Z",
     "iopub.status.busy": "2022-10-21T03:24:48.298521Z",
     "iopub.status.idle": "2022-10-21T03:24:48.684788Z",
     "shell.execute_reply": "2022-10-21T03:24:48.683460Z"
    },
    "papermill": {
     "duration": 0.413153,
     "end_time": "2022-10-21T03:24:48.687170",
     "exception": false,
     "start_time": "2022-10-21T03:24:48.274017",
     "status": "completed"
    },
    "tags": []
   },
   "outputs": [
    {
     "data": {
      "text/latex": [
       "$\\displaystyle \\frac{\\left(e^{4 t} + 3\\right) e^{- 3 t} \\theta\\left(t\\right)}{4}$"
      ],
      "text/plain": [
       "⎛ 4⋅t    ⎞  -3⋅t     \n",
       "⎝ℯ    + 3⎠⋅ℯ    ⋅θ(t)\n",
       "─────────────────────\n",
       "          4          "
      ]
     },
     "execution_count": 36,
     "metadata": {},
     "output_type": "execute_result"
    }
   ],
   "source": [
    "ft = sympy.inverse_laplace_transform(Fs,s,t)\n",
    "ft"
   ]
  },
  {
   "cell_type": "markdown",
   "id": "6e5dfe5e",
   "metadata": {
    "papermill": {
     "duration": 0.022824,
     "end_time": "2022-10-21T03:24:48.733068",
     "exception": false,
     "start_time": "2022-10-21T03:24:48.710244",
     "status": "completed"
    },
    "tags": []
   },
   "source": [
    "## 7.- $\\mathscr{L^{-1}}\\left\\lbrace{\\frac {s+1}{s^2+4s}}\\right\\rbrace$"
   ]
  },
  {
   "cell_type": "code",
   "execution_count": 37,
   "id": "386ded3c",
   "metadata": {
    "execution": {
     "iopub.execute_input": "2022-10-21T03:24:48.781131Z",
     "iopub.status.busy": "2022-10-21T03:24:48.780702Z",
     "iopub.status.idle": "2022-10-21T03:24:48.792166Z",
     "shell.execute_reply": "2022-10-21T03:24:48.791435Z"
    },
    "papermill": {
     "duration": 0.037907,
     "end_time": "2022-10-21T03:24:48.794122",
     "exception": false,
     "start_time": "2022-10-21T03:24:48.756215",
     "status": "completed"
    },
    "tags": []
   },
   "outputs": [
    {
     "data": {
      "text/latex": [
       "$\\displaystyle \\frac{s + 1}{s^{2} + 4 s}$"
      ],
      "text/plain": [
       " s + 1  \n",
       "────────\n",
       " 2      \n",
       "s  + 4⋅s"
      ]
     },
     "execution_count": 37,
     "metadata": {},
     "output_type": "execute_result"
    }
   ],
   "source": [
    "s,t = sympy.symbols('s t')\n",
    "a = sympy.symbols('a', real=True, positive=True)\n",
    "Fs = (s+1)/((s**2)+(4*s))\n",
    "Fs"
   ]
  },
  {
   "cell_type": "code",
   "execution_count": 38,
   "id": "e0f2764c",
   "metadata": {
    "execution": {
     "iopub.execute_input": "2022-10-21T03:24:48.842444Z",
     "iopub.status.busy": "2022-10-21T03:24:48.841737Z",
     "iopub.status.idle": "2022-10-21T03:24:49.105005Z",
     "shell.execute_reply": "2022-10-21T03:24:49.103923Z"
    },
    "papermill": {
     "duration": 0.290161,
     "end_time": "2022-10-21T03:24:49.107349",
     "exception": false,
     "start_time": "2022-10-21T03:24:48.817188",
     "status": "completed"
    },
    "tags": []
   },
   "outputs": [
    {
     "data": {
      "text/latex": [
       "$\\displaystyle \\frac{\\left(e^{4 t} + 3\\right) e^{- 4 t} \\theta\\left(t\\right)}{4}$"
      ],
      "text/plain": [
       "⎛ 4⋅t    ⎞  -4⋅t     \n",
       "⎝ℯ    + 3⎠⋅ℯ    ⋅θ(t)\n",
       "─────────────────────\n",
       "          4          "
      ]
     },
     "execution_count": 38,
     "metadata": {},
     "output_type": "execute_result"
    }
   ],
   "source": [
    "ft = sympy.inverse_laplace_transform(Fs,s,t)\n",
    "ft"
   ]
  },
  {
   "cell_type": "markdown",
   "id": "cd719231",
   "metadata": {
    "papermill": {
     "duration": 0.023406,
     "end_time": "2022-10-21T03:24:49.154477",
     "exception": false,
     "start_time": "2022-10-21T03:24:49.131071",
     "status": "completed"
    },
    "tags": []
   },
   "source": [
    "## 9.- $\\mathscr{L^{-1}}\\left\\lbrace{\\frac{2s+5}{(s-3)^2}}\\right\\rbrace$"
   ]
  },
  {
   "cell_type": "code",
   "execution_count": 39,
   "id": "418bf106",
   "metadata": {
    "execution": {
     "iopub.execute_input": "2022-10-21T03:24:49.204881Z",
     "iopub.status.busy": "2022-10-21T03:24:49.203989Z",
     "iopub.status.idle": "2022-10-21T03:24:49.217451Z",
     "shell.execute_reply": "2022-10-21T03:24:49.216327Z"
    },
    "papermill": {
     "duration": 0.041968,
     "end_time": "2022-10-21T03:24:49.219856",
     "exception": false,
     "start_time": "2022-10-21T03:24:49.177888",
     "status": "completed"
    },
    "tags": []
   },
   "outputs": [
    {
     "data": {
      "text/latex": [
       "$\\displaystyle \\frac{2 s + 5}{\\left(s - 3\\right)^{2}}$"
      ],
      "text/plain": [
       "2⋅s + 5 \n",
       "────────\n",
       "       2\n",
       "(s - 3) "
      ]
     },
     "execution_count": 39,
     "metadata": {},
     "output_type": "execute_result"
    }
   ],
   "source": [
    "s,t = sympy.symbols('s t')\n",
    "a = sympy.symbols('a', real=True, positive=True)\n",
    "Fs = (2*s+5)/((s-3)**2)\n",
    "Fs"
   ]
  },
  {
   "cell_type": "code",
   "execution_count": 40,
   "id": "d1a3e226",
   "metadata": {
    "execution": {
     "iopub.execute_input": "2022-10-21T03:24:49.269182Z",
     "iopub.status.busy": "2022-10-21T03:24:49.268104Z",
     "iopub.status.idle": "2022-10-21T03:24:49.853491Z",
     "shell.execute_reply": "2022-10-21T03:24:49.852730Z"
    },
    "papermill": {
     "duration": 0.612259,
     "end_time": "2022-10-21T03:24:49.855562",
     "exception": false,
     "start_time": "2022-10-21T03:24:49.243303",
     "status": "completed"
    },
    "tags": []
   },
   "outputs": [
    {
     "data": {
      "text/latex": [
       "$\\displaystyle \\left(11 t + 2\\right) e^{3 t} \\theta\\left(t\\right)$"
      ],
      "text/plain": [
       "            3⋅t     \n",
       "(11⋅t + 2)⋅ℯ   ⋅θ(t)"
      ]
     },
     "execution_count": 40,
     "metadata": {},
     "output_type": "execute_result"
    }
   ],
   "source": [
    "ft = sympy.inverse_laplace_transform(Fs,s,t)\n",
    "ft"
   ]
  },
  {
   "cell_type": "markdown",
   "id": "b2acbeb8",
   "metadata": {
    "papermill": {
     "duration": 0.023578,
     "end_time": "2022-10-21T03:24:49.903249",
     "exception": false,
     "start_time": "2022-10-21T03:24:49.879671",
     "status": "completed"
    },
    "tags": []
   },
   "source": [
    "# Transformada de Laplace Derivada"
   ]
  },
  {
   "cell_type": "markdown",
   "id": "56b5509e",
   "metadata": {
    "papermill": {
     "duration": 0.023211,
     "end_time": "2022-10-21T03:24:49.950320",
     "exception": false,
     "start_time": "2022-10-21T03:24:49.927109",
     "status": "completed"
    },
    "tags": []
   },
   "source": [
    "## 1.- $\\frac{dy}{dt}t {3y}=13sen(2t)$"
   ]
  },
  {
   "cell_type": "code",
   "execution_count": 41,
   "id": "628bc91d",
   "metadata": {
    "execution": {
     "iopub.execute_input": "2022-10-21T03:24:49.999114Z",
     "iopub.status.busy": "2022-10-21T03:24:49.998389Z",
     "iopub.status.idle": "2022-10-21T03:24:50.018166Z",
     "shell.execute_reply": "2022-10-21T03:24:50.017437Z"
    },
    "papermill": {
     "duration": 0.046606,
     "end_time": "2022-10-21T03:24:50.020301",
     "exception": false,
     "start_time": "2022-10-21T03:24:49.973695",
     "status": "completed"
    },
    "tags": []
   },
   "outputs": [
    {
     "data": {
      "text/latex": [
       "$\\displaystyle 2 y{\\left(t \\right)} - 13 \\sin{\\left(2 y{\\left(t \\right)} \\right)} + \\frac{d}{d t} y{\\left(t \\right)} = 0$"
      ],
      "text/plain": [
       "                          d           \n",
       "2⋅y(t) - 13⋅sin(2⋅y(t)) + ──(y(t)) = 0\n",
       "                          dt          "
      ]
     },
     "execution_count": 41,
     "metadata": {},
     "output_type": "execute_result"
    }
   ],
   "source": [
    "t = sympy.symbols(\"t\", positive=True)\n",
    "y = sympy.Function(\"y\")\n",
    "\n",
    "s, Y = sympy.symbols(\"s, Y\", real=True)\n",
    "\n",
    "edo = y(t).diff(t) + 2*y(t)-13*sympy.sin(2*y(t))\n",
    "sympy.Eq(edo,0)"
   ]
  },
  {
   "cell_type": "code",
   "execution_count": 42,
   "id": "b6a3d0db",
   "metadata": {
    "execution": {
     "iopub.execute_input": "2022-10-21T03:24:50.071749Z",
     "iopub.status.busy": "2022-10-21T03:24:50.070915Z",
     "iopub.status.idle": "2022-10-21T03:24:50.076051Z",
     "shell.execute_reply": "2022-10-21T03:24:50.075162Z"
    },
    "papermill": {
     "duration": 0.033115,
     "end_time": "2022-10-21T03:24:50.078133",
     "exception": false,
     "start_time": "2022-10-21T03:24:50.045018",
     "status": "completed"
    },
    "tags": []
   },
   "outputs": [],
   "source": [
    "s, Y = sympy.symbols(\"s, Y\", real=True)"
   ]
  },
  {
   "cell_type": "code",
   "execution_count": 43,
   "id": "60b9909a",
   "metadata": {
    "execution": {
     "iopub.execute_input": "2022-10-21T03:24:50.129488Z",
     "iopub.status.busy": "2022-10-21T03:24:50.128947Z",
     "iopub.status.idle": "2022-10-21T03:25:07.635302Z",
     "shell.execute_reply": "2022-10-21T03:25:07.634192Z"
    },
    "papermill": {
     "duration": 17.535899,
     "end_time": "2022-10-21T03:25:07.638000",
     "exception": false,
     "start_time": "2022-10-21T03:24:50.102101",
     "status": "completed"
    },
    "tags": []
   },
   "outputs": [
    {
     "data": {
      "text/latex": [
       "$\\displaystyle s \\mathcal{L}_{t}\\left[y{\\left(t \\right)}\\right]\\left(s\\right) + 2 \\mathcal{L}_{t}\\left[y{\\left(t \\right)}\\right]\\left(s\\right) - 13 \\mathcal{L}_{t}\\left[\\sin{\\left(2 y{\\left(t \\right)} \\right)}\\right]\\left(s\\right) - y{\\left(0 \\right)} = 0$"
      ],
      "text/plain": [
       "s⋅LaplaceTransform(y(t), t, s) + 2⋅LaplaceTransform(y(t), t, s) - 13⋅LaplaceTr\n",
       "ansform(sin(2⋅y(t)), t, s) - y(0) = 0"
      ]
     },
     "execution_count": 43,
     "metadata": {},
     "output_type": "execute_result"
    }
   ],
   "source": [
    "L_edo = sympy.laplace_transform(edo, t, s)\n",
    "sympy.Eq(L_edo,0)"
   ]
  },
  {
   "cell_type": "code",
   "execution_count": 44,
   "id": "28e7e148",
   "metadata": {
    "execution": {
     "iopub.execute_input": "2022-10-21T03:25:07.686813Z",
     "iopub.status.busy": "2022-10-21T03:25:07.686378Z",
     "iopub.status.idle": "2022-10-21T03:25:07.695321Z",
     "shell.execute_reply": "2022-10-21T03:25:07.694263Z"
    },
    "papermill": {
     "duration": 0.036204,
     "end_time": "2022-10-21T03:25:07.697651",
     "exception": false,
     "start_time": "2022-10-21T03:25:07.661447",
     "status": "completed"
    },
    "tags": []
   },
   "outputs": [],
   "source": [
    "def laplace_transform_derivatives(e):\n",
    "    \"\"\"\n",
    "    Evalua las transformadas de Laplace de derivadas de funciones sin evaluar.\n",
    "    \"\"\"\n",
    "    if isinstance(e, sympy.LaplaceTransform):\n",
    "        if isinstance(e.args[0], sympy.Derivative):\n",
    "            d, t, s = e.args \n",
    "            n = len(d.args) - 1\n",
    "            return ((s**n) * sympy.LaplaceTransform(d.args[0], t, s) -\n",
    "                    sum([s**(n-i) * sympy.diff(d.args[0], t, i-1).subs(t, 0)\n",
    "                         for i in range(1, n+1)]))\n",
    "        \n",
    "    if isinstance(e, (sympy.Add, sympy.Mul)):\n",
    "        t = type(e) \n",
    "        return t(*[laplace_transform_derivatives(arg) for arg in e.args])\n",
    "    \n",
    "    return e"
   ]
  },
  {
   "cell_type": "code",
   "execution_count": 45,
   "id": "7c5ff16f",
   "metadata": {
    "execution": {
     "iopub.execute_input": "2022-10-21T03:25:07.747143Z",
     "iopub.status.busy": "2022-10-21T03:25:07.746766Z",
     "iopub.status.idle": "2022-10-21T03:25:07.758596Z",
     "shell.execute_reply": "2022-10-21T03:25:07.757514Z"
    },
    "papermill": {
     "duration": 0.039047,
     "end_time": "2022-10-21T03:25:07.760668",
     "exception": false,
     "start_time": "2022-10-21T03:25:07.721621",
     "status": "completed"
    },
    "tags": []
   },
   "outputs": [
    {
     "data": {
      "text/latex": [
       "$\\displaystyle s \\mathcal{L}_{t}\\left[y{\\left(t \\right)}\\right]\\left(s\\right) + 2 \\mathcal{L}_{t}\\left[y{\\left(t \\right)}\\right]\\left(s\\right) - 13 \\mathcal{L}_{t}\\left[\\sin{\\left(2 y{\\left(t \\right)} \\right)}\\right]\\left(s\\right) - y{\\left(0 \\right)} = 0$"
      ],
      "text/plain": [
       "s⋅LaplaceTransform(y(t), t, s) + 2⋅LaplaceTransform(y(t), t, s) - 13⋅LaplaceTr\n",
       "ansform(sin(2⋅y(t)), t, s) - y(0) = 0"
      ]
     },
     "execution_count": 45,
     "metadata": {},
     "output_type": "execute_result"
    }
   ],
   "source": [
    "L_edo_2 = laplace_transform_derivatives(L_edo)\n",
    "sympy.Eq(L_edo_2,0)"
   ]
  },
  {
   "cell_type": "code",
   "execution_count": 46,
   "id": "6429393a",
   "metadata": {
    "execution": {
     "iopub.execute_input": "2022-10-21T03:25:07.810694Z",
     "iopub.status.busy": "2022-10-21T03:25:07.810067Z",
     "iopub.status.idle": "2022-10-21T03:25:07.868924Z",
     "shell.execute_reply": "2022-10-21T03:25:07.867784Z"
    },
    "papermill": {
     "duration": 0.086624,
     "end_time": "2022-10-21T03:25:07.871296",
     "exception": false,
     "start_time": "2022-10-21T03:25:07.784672",
     "status": "completed"
    },
    "tags": []
   },
   "outputs": [
    {
     "data": {
      "text/latex": [
       "$\\displaystyle Y s + 2 Y - 13 \\mathcal{L}_{t}\\left[\\sin{\\left(2 y{\\left(t \\right)} \\right)}\\right]\\left(s\\right) - y{\\left(0 \\right)} = 0$"
      ],
      "text/plain": [
       "Y⋅s + 2⋅Y - 13⋅LaplaceTransform(sin(2⋅y(t)), t, s) - y(0) = 0"
      ]
     },
     "execution_count": 46,
     "metadata": {},
     "output_type": "execute_result"
    }
   ],
   "source": [
    "L_edo_3 = L_edo_2.subs(sympy.laplace_transform(y(t), t, s), Y)\n",
    "sympy.Eq(L_edo_3,0)"
   ]
  },
  {
   "cell_type": "code",
   "execution_count": 47,
   "id": "4fe0673c",
   "metadata": {
    "execution": {
     "iopub.execute_input": "2022-10-21T03:25:07.922120Z",
     "iopub.status.busy": "2022-10-21T03:25:07.921723Z",
     "iopub.status.idle": "2022-10-21T03:25:07.931676Z",
     "shell.execute_reply": "2022-10-21T03:25:07.930530Z"
    },
    "papermill": {
     "duration": 0.038095,
     "end_time": "2022-10-21T03:25:07.933895",
     "exception": false,
     "start_time": "2022-10-21T03:25:07.895800",
     "status": "completed"
    },
    "tags": []
   },
   "outputs": [
    {
     "data": {
      "text/latex": [
       "$\\displaystyle \\left\\{ y{\\left(0 \\right)} : 6, \\  \\left. \\frac{d}{d t} y{\\left(t \\right)} \\right|_{\\substack{ t=0 }} : 0\\right\\}$"
      ],
      "text/plain": [
       "⎧         ⎛d       ⎞│      ⎫\n",
       "⎨y(0): 6, ⎜──(y(t))⎟│   : 0⎬\n",
       "⎩         ⎝dt      ⎠│t=0   ⎭"
      ]
     },
     "execution_count": 47,
     "metadata": {},
     "output_type": "execute_result"
    }
   ],
   "source": [
    "ics = {y(0): 6, y(t).diff(t).subs(t, 0): 0}\n",
    "ics"
   ]
  },
  {
   "cell_type": "code",
   "execution_count": 48,
   "id": "90a4c8b8",
   "metadata": {
    "execution": {
     "iopub.execute_input": "2022-10-21T03:25:07.984129Z",
     "iopub.status.busy": "2022-10-21T03:25:07.983736Z",
     "iopub.status.idle": "2022-10-21T03:25:13.510349Z",
     "shell.execute_reply": "2022-10-21T03:25:13.509123Z"
    },
    "papermill": {
     "duration": 5.555017,
     "end_time": "2022-10-21T03:25:13.513225",
     "exception": false,
     "start_time": "2022-10-21T03:25:07.958208",
     "status": "completed"
    },
    "tags": []
   },
   "outputs": [
    {
     "data": {
      "text/latex": [
       "$\\displaystyle \\left[ \\frac{13 \\mathcal{L}_{t}\\left[\\sin{\\left(2 y{\\left(t \\right)} \\right)}\\right]\\left(s\\right) + 6}{s + 2}\\right]$"
      ],
      "text/plain": [
       "⎡13⋅LaplaceTransform(sin(2⋅y(t)), t, s) + 6⎤\n",
       "⎢──────────────────────────────────────────⎥\n",
       "⎣                  s + 2                   ⎦"
      ]
     },
     "execution_count": 48,
     "metadata": {},
     "output_type": "execute_result"
    }
   ],
   "source": [
    "L_edo_4 = L_edo_3.subs(ics)\n",
    "Y_sol = sympy.solve(L_edo_4, Y)\n",
    "Y_sol"
   ]
  },
  {
   "cell_type": "code",
   "execution_count": 49,
   "id": "26a1e0e5",
   "metadata": {
    "execution": {
     "iopub.execute_input": "2022-10-21T03:25:13.565788Z",
     "iopub.status.busy": "2022-10-21T03:25:13.565376Z",
     "iopub.status.idle": "2022-10-21T03:25:19.772401Z",
     "shell.execute_reply": "2022-10-21T03:25:19.771153Z"
    },
    "papermill": {
     "duration": 6.235022,
     "end_time": "2022-10-21T03:25:19.774711",
     "exception": false,
     "start_time": "2022-10-21T03:25:13.539689",
     "status": "completed"
    },
    "tags": []
   },
   "outputs": [
    {
     "data": {
      "text/latex": [
       "$\\displaystyle 13 \\mathcal{L}^{-1}_{s}\\left[\\frac{\\mathcal{L}_{t}\\left[\\sin{\\left(2 y{\\left(t \\right)} \\right)}\\right]\\left(s\\right)}{s + 2}\\right]\\left(t\\right) + 6 e^{- 2 t}$"
      ],
      "text/plain": [
       "                          ⎛LaplaceTransform(sin(2⋅y(t)), t, s)            ⎞   \n",
       "13⋅InverseLaplaceTransform⎜───────────────────────────────────, s, t, None⎟ + \n",
       "                          ⎝               s + 2                           ⎠   \n",
       "\n",
       "   -2⋅t\n",
       "6⋅ℯ    \n",
       "       "
      ]
     },
     "execution_count": 49,
     "metadata": {},
     "output_type": "execute_result"
    }
   ],
   "source": [
    "y_sol = sympy.inverse_laplace_transform(Y_sol[0], s, t)\n",
    "y_sol"
   ]
  },
  {
   "cell_type": "code",
   "execution_count": 50,
   "id": "51ab9c70",
   "metadata": {
    "execution": {
     "iopub.execute_input": "2022-10-21T03:25:19.825109Z",
     "iopub.status.busy": "2022-10-21T03:25:19.824706Z",
     "iopub.status.idle": "2022-10-21T03:25:19.854037Z",
     "shell.execute_reply": "2022-10-21T03:25:19.852839Z"
    },
    "papermill": {
     "duration": 0.057216,
     "end_time": "2022-10-21T03:25:19.856255",
     "exception": false,
     "start_time": "2022-10-21T03:25:19.799039",
     "status": "completed"
    },
    "tags": []
   },
   "outputs": [
    {
     "data": {
      "text/latex": [
       "$\\displaystyle \\left( 13 \\mathcal{L}^{-1}_{s}\\left[\\frac{\\mathcal{L}_{0}\\left[\\sin{\\left(2 y{\\left(0 \\right)} \\right)}\\right]\\left(s\\right)}{s + 2}\\right]\\left(0\\right) + 6, \\  13 \\left. \\frac{d}{d t} \\mathcal{L}^{-1}_{s}\\left[\\frac{\\mathcal{L}_{t}\\left[\\sin{\\left(2 y{\\left(t \\right)} \\right)}\\right]\\left(s\\right)}{s + 2}\\right]\\left(t\\right) \\right|_{\\substack{ t=0 }} - 12\\right)$"
      ],
      "text/plain": [
       "⎛                          ⎛LaplaceTransform(sin(2⋅y(0)), 0, s)            ⎞  \n",
       "⎜13⋅InverseLaplaceTransform⎜───────────────────────────────────, s, 0, None⎟ +\n",
       "⎝                          ⎝               s + 2                           ⎠  \n",
       "\n",
       "       ⎛d ⎛                       ⎛LaplaceTransform(sin(2⋅y(t)), t, s)        \n",
       " 6, 13⋅⎜──⎜InverseLaplaceTransform⎜───────────────────────────────────, s, t, \n",
       "       ⎝dt⎝                       ⎝               s + 2                       \n",
       "\n",
       "    ⎞⎞⎞│        ⎞\n",
       "None⎟⎟⎟│    - 12⎟\n",
       "    ⎠⎠⎠│t=0     ⎠"
      ]
     },
     "execution_count": 50,
     "metadata": {},
     "output_type": "execute_result"
    }
   ],
   "source": [
    "y_sol.subs(t, 0), sympy.diff(y_sol).subs(t, 0)"
   ]
  },
  {
   "cell_type": "markdown",
   "id": "7c31dd88",
   "metadata": {
    "papermill": {
     "duration": 0.024044,
     "end_time": "2022-10-21T03:25:19.905005",
     "exception": false,
     "start_time": "2022-10-21T03:25:19.880961",
     "status": "completed"
    },
    "tags": []
   },
   "source": [
    "## 2.- $\\mathscr{L}\\left\\lbrace{L\\frac{d^2a}{(dt^2}}\\right\\rbrace+\\mathscr{L}{12\\frac{da}{dt}}$"
   ]
  },
  {
   "cell_type": "code",
   "execution_count": 51,
   "id": "1b266414",
   "metadata": {
    "execution": {
     "iopub.execute_input": "2022-10-21T03:25:19.956534Z",
     "iopub.status.busy": "2022-10-21T03:25:19.955872Z",
     "iopub.status.idle": "2022-10-21T03:25:19.976011Z",
     "shell.execute_reply": "2022-10-21T03:25:19.974819Z"
    },
    "papermill": {
     "duration": 0.049044,
     "end_time": "2022-10-21T03:25:19.978520",
     "exception": false,
     "start_time": "2022-10-21T03:25:19.929476",
     "status": "completed"
    },
    "tags": []
   },
   "outputs": [
    {
     "data": {
      "text/latex": [
       "$\\displaystyle L \\frac{d^{2}}{d t^{2}} y{\\left(t \\right)} + R \\frac{d}{d t} y{\\left(t \\right)} - y{\\left(t \\right)} = 0$"
      ],
      "text/plain": [
       "    2                              \n",
       "   d            d                  \n",
       "L⋅───(y(t)) + R⋅──(y(t)) - y(t) = 0\n",
       "    2           dt                 \n",
       "  dt                               "
      ]
     },
     "execution_count": 51,
     "metadata": {},
     "output_type": "execute_result"
    }
   ],
   "source": [
    "t = sympy.symbols(\"t\", positive=True)\n",
    "L = sympy.symbols(\"L\", positive=True)\n",
    "R = sympy.symbols(\"R\", positive=True)\n",
    "y = sympy.Function(\"y\")\n",
    "\n",
    "s, Y = sympy.symbols(\"s, Y\", real=True)\n",
    "\n",
    "edo = L*y(t).diff(t, t) + R*y(t).diff(t) - y(t) \n",
    "sympy.Eq(edo,0)"
   ]
  },
  {
   "cell_type": "code",
   "execution_count": 52,
   "id": "7d6422c9",
   "metadata": {
    "execution": {
     "iopub.execute_input": "2022-10-21T03:25:20.030611Z",
     "iopub.status.busy": "2022-10-21T03:25:20.029948Z",
     "iopub.status.idle": "2022-10-21T03:25:20.035017Z",
     "shell.execute_reply": "2022-10-21T03:25:20.034070Z"
    },
    "papermill": {
     "duration": 0.03354,
     "end_time": "2022-10-21T03:25:20.037045",
     "exception": false,
     "start_time": "2022-10-21T03:25:20.003505",
     "status": "completed"
    },
    "tags": []
   },
   "outputs": [],
   "source": [
    "s, Y = sympy.symbols(\"s, Y\", real=True)"
   ]
  },
  {
   "cell_type": "code",
   "execution_count": 53,
   "id": "9ebc1f3a",
   "metadata": {
    "execution": {
     "iopub.execute_input": "2022-10-21T03:25:20.088317Z",
     "iopub.status.busy": "2022-10-21T03:25:20.087685Z",
     "iopub.status.idle": "2022-10-21T03:25:20.704263Z",
     "shell.execute_reply": "2022-10-21T03:25:20.703051Z"
    },
    "papermill": {
     "duration": 0.644841,
     "end_time": "2022-10-21T03:25:20.706543",
     "exception": false,
     "start_time": "2022-10-21T03:25:20.061702",
     "status": "completed"
    },
    "tags": []
   },
   "outputs": [
    {
     "data": {
      "text/latex": [
       "$\\displaystyle s^{2} \\mathcal{L}_{t}\\left[y{\\left(t \\right)}\\right]\\left(s\\right) + s \\mathcal{L}_{t}\\left[y{\\left(t \\right)}\\right]\\left(s\\right) - s y{\\left(0 \\right)} - \\mathcal{L}_{t}\\left[y{\\left(t \\right)}\\right]\\left(s\\right) - y{\\left(0 \\right)} - \\left. \\frac{d}{d t} y{\\left(t \\right)} \\right|_{\\substack{ t=0 }} = 0$"
      ],
      "text/plain": [
       " 2                                                                            \n",
       "s ⋅LaplaceTransform(y(t), t, s) + s⋅LaplaceTransform(y(t), t, s) - s⋅y(0) - La\n",
       "                                                                              \n",
       "\n",
       "                                    ⎛d       ⎞│       \n",
       "placeTransform(y(t), t, s) - y(0) - ⎜──(y(t))⎟│    = 0\n",
       "                                    ⎝dt      ⎠│t=0    "
      ]
     },
     "execution_count": 53,
     "metadata": {},
     "output_type": "execute_result"
    }
   ],
   "source": [
    "L_edo = sympy.laplace_transform(edo, t, s)\n",
    "sympy.Eq(L_edo, 0)"
   ]
  },
  {
   "cell_type": "code",
   "execution_count": 54,
   "id": "693e0c68",
   "metadata": {
    "execution": {
     "iopub.execute_input": "2022-10-21T03:25:20.759331Z",
     "iopub.status.busy": "2022-10-21T03:25:20.758692Z",
     "iopub.status.idle": "2022-10-21T03:25:20.767400Z",
     "shell.execute_reply": "2022-10-21T03:25:20.766651Z"
    },
    "papermill": {
     "duration": 0.038008,
     "end_time": "2022-10-21T03:25:20.769782",
     "exception": false,
     "start_time": "2022-10-21T03:25:20.731774",
     "status": "completed"
    },
    "tags": []
   },
   "outputs": [],
   "source": [
    "def laplace_transform_derivatives(e):\n",
    "    \"\"\"\n",
    "    Evalua las transformadas de Laplace de derivadas de funciones sin evaluar.\n",
    "    \"\"\"\n",
    "    if isinstance(e, sympy.LaplaceTransform):\n",
    "        if isinstance(e.args[0], sympy.Derivative):\n",
    "            d, t, s = e.args \n",
    "            n = len(d.args) - 1\n",
    "            return ((s**n) * sympy.LaplaceTransform(d.args[0], t, s) -\n",
    "                    sum([s**(n-i) * sympy.diff(d.args[0], t, i-1).subs(t, 0)\n",
    "                         for i in range(1, n+1)]))\n",
    "        \n",
    "    if isinstance(e, (sympy.Add, sympy.Mul)):\n",
    "        t = type(e) \n",
    "        return t(*[laplace_transform_derivatives(arg) for arg in e.args])\n",
    "    \n",
    "    return e"
   ]
  },
  {
   "cell_type": "code",
   "execution_count": 55,
   "id": "b5706c99",
   "metadata": {
    "execution": {
     "iopub.execute_input": "2022-10-21T03:25:20.822020Z",
     "iopub.status.busy": "2022-10-21T03:25:20.821316Z",
     "iopub.status.idle": "2022-10-21T03:25:20.834768Z",
     "shell.execute_reply": "2022-10-21T03:25:20.833538Z"
    },
    "papermill": {
     "duration": 0.041999,
     "end_time": "2022-10-21T03:25:20.836999",
     "exception": false,
     "start_time": "2022-10-21T03:25:20.795000",
     "status": "completed"
    },
    "tags": []
   },
   "outputs": [
    {
     "data": {
      "text/latex": [
       "$\\displaystyle s^{2} \\mathcal{L}_{t}\\left[y{\\left(t \\right)}\\right]\\left(s\\right) + s \\mathcal{L}_{t}\\left[y{\\left(t \\right)}\\right]\\left(s\\right) - s y{\\left(0 \\right)} - \\mathcal{L}_{t}\\left[y{\\left(t \\right)}\\right]\\left(s\\right) - y{\\left(0 \\right)} - \\left. \\frac{d}{d t} y{\\left(t \\right)} \\right|_{\\substack{ t=0 }} = 0$"
      ],
      "text/plain": [
       " 2                                                                            \n",
       "s ⋅LaplaceTransform(y(t), t, s) + s⋅LaplaceTransform(y(t), t, s) - s⋅y(0) - La\n",
       "                                                                              \n",
       "\n",
       "                                    ⎛d       ⎞│       \n",
       "placeTransform(y(t), t, s) - y(0) - ⎜──(y(t))⎟│    = 0\n",
       "                                    ⎝dt      ⎠│t=0    "
      ]
     },
     "execution_count": 55,
     "metadata": {},
     "output_type": "execute_result"
    }
   ],
   "source": [
    "L_edo_2 = laplace_transform_derivatives(L_edo)\n",
    "sympy.Eq(L_edo_2,0)"
   ]
  },
  {
   "cell_type": "code",
   "execution_count": 56,
   "id": "50673274",
   "metadata": {
    "execution": {
     "iopub.execute_input": "2022-10-21T03:25:20.890097Z",
     "iopub.status.busy": "2022-10-21T03:25:20.889447Z",
     "iopub.status.idle": "2022-10-21T03:25:20.956724Z",
     "shell.execute_reply": "2022-10-21T03:25:20.955547Z"
    },
    "papermill": {
     "duration": 0.09618,
     "end_time": "2022-10-21T03:25:20.958935",
     "exception": false,
     "start_time": "2022-10-21T03:25:20.862755",
     "status": "completed"
    },
    "tags": []
   },
   "outputs": [
    {
     "data": {
      "text/latex": [
       "$\\displaystyle Y s^{2} + Y s - Y - s y{\\left(0 \\right)} - y{\\left(0 \\right)} - \\left. \\frac{d}{d t} y{\\left(t \\right)} \\right|_{\\substack{ t=0 }} = 0$"
      ],
      "text/plain": [
       "   2                             ⎛d       ⎞│       \n",
       "Y⋅s  + Y⋅s - Y - s⋅y(0) - y(0) - ⎜──(y(t))⎟│    = 0\n",
       "                                 ⎝dt      ⎠│t=0    "
      ]
     },
     "execution_count": 56,
     "metadata": {},
     "output_type": "execute_result"
    }
   ],
   "source": [
    "L_edo_3 = L_edo_2.subs(sympy.laplace_transform(y(t), t, s), Y)\n",
    "sympy.Eq(L_edo_3,0)"
   ]
  },
  {
   "cell_type": "code",
   "execution_count": 57,
   "id": "9bc29f9d",
   "metadata": {
    "execution": {
     "iopub.execute_input": "2022-10-21T03:25:21.011994Z",
     "iopub.status.busy": "2022-10-21T03:25:21.011304Z",
     "iopub.status.idle": "2022-10-21T03:25:21.021496Z",
     "shell.execute_reply": "2022-10-21T03:25:21.020532Z"
    },
    "papermill": {
     "duration": 0.039283,
     "end_time": "2022-10-21T03:25:21.023608",
     "exception": false,
     "start_time": "2022-10-21T03:25:20.984325",
     "status": "completed"
    },
    "tags": []
   },
   "outputs": [
    {
     "data": {
      "text/latex": [
       "$\\displaystyle \\left\\{ y{\\left(0 \\right)} : 0, \\  \\left. \\frac{d}{d t} y{\\left(t \\right)} \\right|_{\\substack{ t=0 }} : 1\\right\\}$"
      ],
      "text/plain": [
       "⎧         ⎛d       ⎞│      ⎫\n",
       "⎨y(0): 0, ⎜──(y(t))⎟│   : 1⎬\n",
       "⎩         ⎝dt      ⎠│t=0   ⎭"
      ]
     },
     "execution_count": 57,
     "metadata": {},
     "output_type": "execute_result"
    }
   ],
   "source": [
    "ics = {y(0): 0, y(t).diff(t).subs(t, 0): 1}\n",
    "ics"
   ]
  },
  {
   "cell_type": "code",
   "execution_count": 58,
   "id": "0c105f92",
   "metadata": {
    "execution": {
     "iopub.execute_input": "2022-10-21T03:25:21.076726Z",
     "iopub.status.busy": "2022-10-21T03:25:21.076068Z",
     "iopub.status.idle": "2022-10-21T03:25:21.112627Z",
     "shell.execute_reply": "2022-10-21T03:25:21.111466Z"
    },
    "papermill": {
     "duration": 0.065861,
     "end_time": "2022-10-21T03:25:21.114798",
     "exception": false,
     "start_time": "2022-10-21T03:25:21.048937",
     "status": "completed"
    },
    "tags": []
   },
   "outputs": [
    {
     "data": {
      "text/latex": [
       "$\\displaystyle \\left[ \\frac{1}{s^{2} + s - 1}\\right]$"
      ],
      "text/plain": [
       "⎡    1     ⎤\n",
       "⎢──────────⎥\n",
       "⎢ 2        ⎥\n",
       "⎣s  + s - 1⎦"
      ]
     },
     "execution_count": 58,
     "metadata": {},
     "output_type": "execute_result"
    }
   ],
   "source": [
    "L_edo_4 = L_edo_3.subs(ics)\n",
    "\n",
    "Y_sol = sympy.solve(L_edo_4, Y)\n",
    "Y_sol"
   ]
  },
  {
   "cell_type": "code",
   "execution_count": 59,
   "id": "244b73a6",
   "metadata": {
    "execution": {
     "iopub.execute_input": "2022-10-21T03:25:21.168230Z",
     "iopub.status.busy": "2022-10-21T03:25:21.167562Z",
     "iopub.status.idle": "2022-10-21T03:25:21.716986Z",
     "shell.execute_reply": "2022-10-21T03:25:21.715800Z"
    },
    "papermill": {
     "duration": 0.57847,
     "end_time": "2022-10-21T03:25:21.719131",
     "exception": false,
     "start_time": "2022-10-21T03:25:21.140661",
     "status": "completed"
    },
    "tags": []
   },
   "outputs": [
    {
     "data": {
      "text/latex": [
       "$\\displaystyle \\frac{\\sqrt{5} \\left(e^{\\sqrt{5} t} - 1\\right) e^{- \\frac{t \\left(1 + \\sqrt{5}\\right)}{2}}}{5}$"
      ],
      "text/plain": [
       "                -t⋅(1 + √5) \n",
       "                ────────────\n",
       "   ⎛ √5⋅t    ⎞       2      \n",
       "√5⋅⎝ℯ     - 1⎠⋅ℯ            \n",
       "────────────────────────────\n",
       "             5              "
      ]
     },
     "execution_count": 59,
     "metadata": {},
     "output_type": "execute_result"
    }
   ],
   "source": [
    "y_sol = sympy.inverse_laplace_transform(Y_sol[0], s, t)\n",
    "y_sol"
   ]
  },
  {
   "cell_type": "markdown",
   "id": "3b16cd4d",
   "metadata": {
    "papermill": {
     "duration": 0.025213,
     "end_time": "2022-10-21T03:25:21.769992",
     "exception": false,
     "start_time": "2022-10-21T03:25:21.744779",
     "status": "completed"
    },
    "tags": []
   },
   "source": [
    "## 3.- $\\left\\lbrace\\frac{d^2y}{dt^2}-3\\frac{dy}{dt}-{8}\\right\\rbrace$"
   ]
  },
  {
   "cell_type": "code",
   "execution_count": 60,
   "id": "634ac8d6",
   "metadata": {
    "execution": {
     "iopub.execute_input": "2022-10-21T03:25:21.823425Z",
     "iopub.status.busy": "2022-10-21T03:25:21.822789Z",
     "iopub.status.idle": "2022-10-21T03:25:21.854633Z",
     "shell.execute_reply": "2022-10-21T03:25:21.853379Z"
    },
    "papermill": {
     "duration": 0.061478,
     "end_time": "2022-10-21T03:25:21.857185",
     "exception": false,
     "start_time": "2022-10-21T03:25:21.795707",
     "status": "completed"
    },
    "tags": []
   },
   "outputs": [
    {
     "data": {
      "text/latex": [
       "$\\displaystyle - y^{2}{\\left(t \\right)} e^{- 2 t} + 8 y{\\left(t \\right)} - 3 \\frac{d}{d t} y{\\left(t \\right)} + \\frac{d^{2}}{d t^{2}} y{\\left(t \\right)} = 0$"
      ],
      "text/plain": [
       "                                        2          \n",
       "   2     -2⋅t              d           d           \n",
       "- y (t)⋅ℯ     + 8⋅y(t) - 3⋅──(y(t)) + ───(y(t)) = 0\n",
       "                           dt           2          \n",
       "                                      dt           "
      ]
     },
     "execution_count": 60,
     "metadata": {},
     "output_type": "execute_result"
    }
   ],
   "source": [
    "t = sympy.symbols(\"t\", positive=True)\n",
    "y = sympy.Function(\"y\")\n",
    "\n",
    "# simbolos adicionales.\n",
    "s, Y = sympy.symbols(\"s, Y\", real=True)\n",
    "\n",
    "# Defino la ecuación\n",
    "edo = y(t).diff(t, t) - 3*y(t).diff(t) + 8*y(t)- y(t)**2*sympy.exp(-2*t)\n",
    "sympy.Eq(edo,0)"
   ]
  },
  {
   "cell_type": "code",
   "execution_count": 61,
   "id": "59393517",
   "metadata": {
    "execution": {
     "iopub.execute_input": "2022-10-21T03:25:21.910622Z",
     "iopub.status.busy": "2022-10-21T03:25:21.909959Z",
     "iopub.status.idle": "2022-10-21T03:25:21.914944Z",
     "shell.execute_reply": "2022-10-21T03:25:21.914205Z"
    },
    "papermill": {
     "duration": 0.03405,
     "end_time": "2022-10-21T03:25:21.916945",
     "exception": false,
     "start_time": "2022-10-21T03:25:21.882895",
     "status": "completed"
    },
    "tags": []
   },
   "outputs": [],
   "source": [
    "s, Y = sympy.symbols(\"s, Y\", real=True)"
   ]
  },
  {
   "cell_type": "code",
   "execution_count": 62,
   "id": "313dc83e",
   "metadata": {
    "execution": {
     "iopub.execute_input": "2022-10-21T03:25:21.970450Z",
     "iopub.status.busy": "2022-10-21T03:25:21.969815Z",
     "iopub.status.idle": "2022-10-21T03:25:30.560798Z",
     "shell.execute_reply": "2022-10-21T03:25:30.559731Z"
    },
    "papermill": {
     "duration": 8.620679,
     "end_time": "2022-10-21T03:25:30.563132",
     "exception": false,
     "start_time": "2022-10-21T03:25:21.942453",
     "status": "completed"
    },
    "tags": []
   },
   "outputs": [
    {
     "data": {
      "text/latex": [
       "$\\displaystyle s^{2} \\mathcal{L}_{t}\\left[y{\\left(t \\right)}\\right]\\left(s\\right) + s \\mathcal{L}_{t}\\left[y{\\left(t \\right)}\\right]\\left(s\\right) - s y{\\left(0 \\right)} - \\mathcal{L}_{t}\\left[y^{2}{\\left(t \\right)} e^{- 2 t}\\right]\\left(s\\right) + 8 \\mathcal{L}_{t}\\left[y{\\left(t \\right)}\\right]\\left(s\\right) - y{\\left(0 \\right)} - \\left. \\frac{d}{d t} y{\\left(t \\right)} \\right|_{\\substack{ t=0 }} = 0$"
      ],
      "text/plain": [
       " 2                                                                            \n",
       "s ⋅LaplaceTransform(y(t), t, s) + s⋅LaplaceTransform(y(t), t, s) - s⋅y(0) - La\n",
       "                                                                              \n",
       "\n",
       "              ⎛ 2     -2⋅t      ⎞                                           ⎛d\n",
       "placeTransform⎝y (t)⋅ℯ    , t, s⎠ + 8⋅LaplaceTransform(y(t), t, s) - y(0) - ⎜─\n",
       "                                                                            ⎝d\n",
       "\n",
       "       ⎞│       \n",
       "─(y(t))⎟│    = 0\n",
       "t      ⎠│t=0    "
      ]
     },
     "execution_count": 62,
     "metadata": {},
     "output_type": "execute_result"
    }
   ],
   "source": [
    "L_edo = sympy.laplace_transform(edo, t, s)\n",
    "sympy.Eq(L_edo,0)"
   ]
  },
  {
   "cell_type": "code",
   "execution_count": 63,
   "id": "1a35f017",
   "metadata": {
    "execution": {
     "iopub.execute_input": "2022-10-21T03:25:30.617977Z",
     "iopub.status.busy": "2022-10-21T03:25:30.617608Z",
     "iopub.status.idle": "2022-10-21T03:25:30.626025Z",
     "shell.execute_reply": "2022-10-21T03:25:30.624906Z"
    },
    "papermill": {
     "duration": 0.03867,
     "end_time": "2022-10-21T03:25:30.628104",
     "exception": false,
     "start_time": "2022-10-21T03:25:30.589434",
     "status": "completed"
    },
    "tags": []
   },
   "outputs": [],
   "source": [
    "def laplace_transform_derivatives(e):\n",
    "    \"\"\"\n",
    "    Evalua las transformadas de Laplace de derivadas de funciones sin evaluar.\n",
    "    \"\"\"\n",
    "    if isinstance(e, sympy.LaplaceTransform):\n",
    "        if isinstance(e.args[0], sympy.Derivative):\n",
    "            d, t, s = e.args \n",
    "            n = len(d.args) - 1\n",
    "            return ((s**n) * sympy.LaplaceTransform(d.args[0], t, s) -\n",
    "                    sum([s**(n-i) * sympy.diff(d.args[0], t, i-1).subs(t, 0)\n",
    "                         for i in range(1, n+1)]))\n",
    "        \n",
    "    if isinstance(e, (sympy.Add, sympy.Mul)):\n",
    "        t = type(e) \n",
    "        return t(*[laplace_transform_derivatives(arg) for arg in e.args])\n",
    "    \n",
    "    return e"
   ]
  },
  {
   "cell_type": "code",
   "execution_count": 64,
   "id": "80864d07",
   "metadata": {
    "execution": {
     "iopub.execute_input": "2022-10-21T03:25:30.681250Z",
     "iopub.status.busy": "2022-10-21T03:25:30.680872Z",
     "iopub.status.idle": "2022-10-21T03:25:30.699409Z",
     "shell.execute_reply": "2022-10-21T03:25:30.698624Z"
    },
    "papermill": {
     "duration": 0.047932,
     "end_time": "2022-10-21T03:25:30.701659",
     "exception": false,
     "start_time": "2022-10-21T03:25:30.653727",
     "status": "completed"
    },
    "tags": []
   },
   "outputs": [
    {
     "data": {
      "text/latex": [
       "$\\displaystyle s^{2} \\mathcal{L}_{t}\\left[y{\\left(t \\right)}\\right]\\left(s\\right) + s \\mathcal{L}_{t}\\left[y{\\left(t \\right)}\\right]\\left(s\\right) - s y{\\left(0 \\right)} - \\mathcal{L}_{t}\\left[y^{2}{\\left(t \\right)} e^{- 2 t}\\right]\\left(s\\right) + 8 \\mathcal{L}_{t}\\left[y{\\left(t \\right)}\\right]\\left(s\\right) - y{\\left(0 \\right)} - \\left. \\frac{d}{d t} y{\\left(t \\right)} \\right|_{\\substack{ t=0 }} = 0$"
      ],
      "text/plain": [
       " 2                                                                            \n",
       "s ⋅LaplaceTransform(y(t), t, s) + s⋅LaplaceTransform(y(t), t, s) - s⋅y(0) - La\n",
       "                                                                              \n",
       "\n",
       "              ⎛ 2     -2⋅t      ⎞                                           ⎛d\n",
       "placeTransform⎝y (t)⋅ℯ    , t, s⎠ + 8⋅LaplaceTransform(y(t), t, s) - y(0) - ⎜─\n",
       "                                                                            ⎝d\n",
       "\n",
       "       ⎞│       \n",
       "─(y(t))⎟│    = 0\n",
       "t      ⎠│t=0    "
      ]
     },
     "execution_count": 64,
     "metadata": {},
     "output_type": "execute_result"
    }
   ],
   "source": [
    "L_edo_2 = laplace_transform_derivatives(L_edo)\n",
    "sympy.Eq(L_edo_2,0)"
   ]
  },
  {
   "cell_type": "code",
   "execution_count": 65,
   "id": "326dcea4",
   "metadata": {
    "execution": {
     "iopub.execute_input": "2022-10-21T03:25:30.755199Z",
     "iopub.status.busy": "2022-10-21T03:25:30.754830Z",
     "iopub.status.idle": "2022-10-21T03:25:30.827660Z",
     "shell.execute_reply": "2022-10-21T03:25:30.826634Z"
    },
    "papermill": {
     "duration": 0.102412,
     "end_time": "2022-10-21T03:25:30.829824",
     "exception": false,
     "start_time": "2022-10-21T03:25:30.727412",
     "status": "completed"
    },
    "tags": []
   },
   "outputs": [
    {
     "data": {
      "text/latex": [
       "$\\displaystyle Y s^{2} + Y s + 8 Y - s y{\\left(0 \\right)} - \\mathcal{L}_{t}\\left[y^{2}{\\left(t \\right)} e^{- 2 t}\\right]\\left(s\\right) - y{\\left(0 \\right)} - \\left. \\frac{d}{d t} y{\\left(t \\right)} \\right|_{\\substack{ t=0 }} = 0$"
      ],
      "text/plain": [
       "   2                                        ⎛ 2     -2⋅t      ⎞          ⎛d   \n",
       "Y⋅s  + Y⋅s + 8⋅Y - s⋅y(0) - LaplaceTransform⎝y (t)⋅ℯ    , t, s⎠ - y(0) - ⎜──(y\n",
       "                                                                         ⎝dt  \n",
       "\n",
       "    ⎞│       \n",
       "(t))⎟│    = 0\n",
       "    ⎠│t=0    "
      ]
     },
     "execution_count": 65,
     "metadata": {},
     "output_type": "execute_result"
    }
   ],
   "source": [
    "L_edo_3 = L_edo_2.subs(sympy.laplace_transform(y(t), t, s), Y)\n",
    "sympy.Eq(L_edo_3,0)"
   ]
  },
  {
   "cell_type": "code",
   "execution_count": 66,
   "id": "822b2069",
   "metadata": {
    "execution": {
     "iopub.execute_input": "2022-10-21T03:25:30.884060Z",
     "iopub.status.busy": "2022-10-21T03:25:30.883669Z",
     "iopub.status.idle": "2022-10-21T03:25:30.892351Z",
     "shell.execute_reply": "2022-10-21T03:25:30.891572Z"
    },
    "papermill": {
     "duration": 0.038169,
     "end_time": "2022-10-21T03:25:30.894242",
     "exception": false,
     "start_time": "2022-10-21T03:25:30.856073",
     "status": "completed"
    },
    "tags": []
   },
   "outputs": [
    {
     "data": {
      "text/latex": [
       "$\\displaystyle \\left\\{ y{\\left(0 \\right)} : 0, \\  \\left. \\frac{d}{d t} y{\\left(t \\right)} \\right|_{\\substack{ t=0 }} : 0\\right\\}$"
      ],
      "text/plain": [
       "⎧         ⎛d       ⎞│      ⎫\n",
       "⎨y(0): 0, ⎜──(y(t))⎟│   : 0⎬\n",
       "⎩         ⎝dt      ⎠│t=0   ⎭"
      ]
     },
     "execution_count": 66,
     "metadata": {},
     "output_type": "execute_result"
    }
   ],
   "source": [
    "ics = {y(0): 0, y(t).diff(t).subs(t, 0): -0}\n",
    "ics"
   ]
  },
  {
   "cell_type": "code",
   "execution_count": 67,
   "id": "25baf362",
   "metadata": {
    "execution": {
     "iopub.execute_input": "2022-10-21T03:25:30.949077Z",
     "iopub.status.busy": "2022-10-21T03:25:30.948688Z",
     "iopub.status.idle": "2022-10-21T03:25:33.661894Z",
     "shell.execute_reply": "2022-10-21T03:25:33.660758Z"
    },
    "papermill": {
     "duration": 2.743433,
     "end_time": "2022-10-21T03:25:33.664383",
     "exception": false,
     "start_time": "2022-10-21T03:25:30.920950",
     "status": "completed"
    },
    "tags": []
   },
   "outputs": [
    {
     "data": {
      "text/latex": [
       "$\\displaystyle \\left[ \\frac{\\mathcal{L}_{t}\\left[y^{2}{\\left(t \\right)} e^{- 2 t}\\right]\\left(s\\right)}{s^{2} + s + 8}\\right]$"
      ],
      "text/plain": [
       "⎡                ⎛ 2     -2⋅t      ⎞⎤\n",
       "⎢LaplaceTransform⎝y (t)⋅ℯ    , t, s⎠⎥\n",
       "⎢───────────────────────────────────⎥\n",
       "⎢              2                    ⎥\n",
       "⎣             s  + s + 8            ⎦"
      ]
     },
     "execution_count": 67,
     "metadata": {},
     "output_type": "execute_result"
    }
   ],
   "source": [
    "L_edo_4 = L_edo_3.subs(ics)\n",
    "Y_sol = sympy.solve(L_edo_4, Y)\n",
    "Y_sol"
   ]
  },
  {
   "cell_type": "code",
   "execution_count": 68,
   "id": "a7e9b873",
   "metadata": {
    "execution": {
     "iopub.execute_input": "2022-10-21T03:25:33.719233Z",
     "iopub.status.busy": "2022-10-21T03:25:33.718464Z",
     "iopub.status.idle": "2022-10-21T03:25:34.344807Z",
     "shell.execute_reply": "2022-10-21T03:25:34.343650Z"
    },
    "papermill": {
     "duration": 0.656149,
     "end_time": "2022-10-21T03:25:34.346944",
     "exception": false,
     "start_time": "2022-10-21T03:25:33.690795",
     "status": "completed"
    },
    "tags": []
   },
   "outputs": [
    {
     "data": {
      "text/latex": [
       "$\\displaystyle \\mathcal{L}^{-1}_{s}\\left[\\frac{\\mathcal{L}_{t}\\left[y^{2}{\\left(t \\right)} e^{- 2 t}\\right]\\left(s\\right)}{s^{2} + s + 8}\\right]\\left(t\\right)$"
      ],
      "text/plain": [
       "                       ⎛                ⎛ 2     -2⋅t      ⎞            ⎞\n",
       "                       ⎜LaplaceTransform⎝y (t)⋅ℯ    , t, s⎠            ⎟\n",
       "InverseLaplaceTransform⎜───────────────────────────────────, s, t, None⎟\n",
       "                       ⎜              2                                ⎟\n",
       "                       ⎝             s  + s + 8                        ⎠"
      ]
     },
     "execution_count": 68,
     "metadata": {},
     "output_type": "execute_result"
    }
   ],
   "source": [
    "y_sol = sympy.inverse_laplace_transform(Y_sol[0], s, t)\n",
    "y_sol"
   ]
  },
  {
   "cell_type": "markdown",
   "id": "ade9fde1",
   "metadata": {
    "papermill": {
     "duration": 0.026731,
     "end_time": "2022-10-21T03:25:34.400510",
     "exception": false,
     "start_time": "2022-10-21T03:25:34.373779",
     "status": "completed"
    },
    "tags": []
   },
   "source": [
    "# Referencias \n",
    "* \"Ecuaciones Diferenciales con Python\". Raul E. Lopez Briega. https://relopezbriega.github.io/blog/2016/01/10/ecuaciones-diferenciales-con-python/ (accedido el 21 de octubre de 2022).\n",
    "* \"Transformada inversa de Laplace\". Campus de Gipuzkoa - UPV/EHU. http://www.sc.ehu.es/sbweb/fisica3/simbolico/laplace/laplace_1.html (accedido el 21 de octubre de 2022).\n",
    "* \"Differential Equations - Inverse Laplace Transforms\". Pauls Online Math Notes. https://tutorial.math.lamar.edu/classes/de/inversetransforms.aspx (accedido el 21 de octubre de 2022).\n",
    "* \"4.1 Integral de la Transformada de Laplace – Ejemplos y ejercicios – Señales y Sistemas\". Blog de ESPOL | Noticias y Actividades de ESPOL. http://blog.espol.edu.ec/telg1001/integral-de-la-transformada-de-laplace-ejemplos/ (accedido el 21 de octubre de 2022)."
   ]
  }
 ],
 "metadata": {
  "kernelspec": {
   "display_name": "Python 3",
   "language": "python",
   "name": "python3"
  },
  "language_info": {
   "codemirror_mode": {
    "name": "ipython",
    "version": 3
   },
   "file_extension": ".py",
   "mimetype": "text/x-python",
   "name": "python",
   "nbconvert_exporter": "python",
   "pygments_lexer": "ipython3",
   "version": "3.7.12"
  },
  "papermill": {
   "default_parameters": {},
   "duration": 73.502272,
   "end_time": "2022-10-21T03:25:35.449163",
   "environment_variables": {},
   "exception": null,
   "input_path": "__notebook__.ipynb",
   "output_path": "__notebook__.ipynb",
   "parameters": {},
   "start_time": "2022-10-21T03:24:21.946891",
   "version": "2.3.4"
  }
 },
 "nbformat": 4,
 "nbformat_minor": 5
}
